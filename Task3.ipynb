{
  "nbformat": 4,
  "nbformat_minor": 0,
  "metadata": {
    "colab": {
      "name": "Task3.ipynb",
      "provenance": [],
      "authorship_tag": "ABX9TyPOWpfi95X3c5qbp1gahaQD",
      "include_colab_link": true
    },
    "kernelspec": {
      "name": "python3",
      "display_name": "Python 3"
    },
    "language_info": {
      "name": "python"
    }
  },
  "cells": [
    {
      "cell_type": "markdown",
      "metadata": {
        "id": "view-in-github",
        "colab_type": "text"
      },
      "source": [
        "<a href=\"https://colab.research.google.com/github/AryaBenny/LEARN.PY/blob/main/Task3.ipynb\" target=\"_parent\"><img src=\"https://colab.research.google.com/assets/colab-badge.svg\" alt=\"Open In Colab\"/></a>"
      ]
    },
    {
      "cell_type": "markdown",
      "metadata": {
        "id": "3_lx4D8_5lL9"
      },
      "source": [
        "1 - Write a program which takes a number as input from the user and check whether the number is odd or even. If odd print the number is odd if not print it is even."
      ]
    },
    {
      "cell_type": "code",
      "metadata": {
        "id": "ZJz8FXbo4-EA",
        "colab": {
          "base_uri": "https://localhost:8080/"
        },
        "outputId": "d87b0a82-6782-49aa-f556-0fbac24e94d3"
      },
      "source": [
        "#please enter your answer below this\n",
        "\n",
        "num = int (input(\"Enter the number: \"))\n",
        "rem = num%2\n",
        "if (rem==0):\n",
        "  print(num, \"is an even number\")\n",
        "else:\n",
        "  print(num, \"is an odd number\")"
      ],
      "execution_count": 7,
      "outputs": [
        {
          "output_type": "stream",
          "text": [
            "Enter the number: 26\n",
            "26 is an even number\n"
          ],
          "name": "stdout"
        }
      ]
    },
    {
      "cell_type": "markdown",
      "metadata": {
        "id": "Pfea1k347Gwj"
      },
      "source": [
        "2 - Write a program to find the largest among three numbers and print the largest number."
      ]
    },
    {
      "cell_type": "code",
      "metadata": {
        "id": "_FDzaTt77hR_",
        "colab": {
          "base_uri": "https://localhost:8080/"
        },
        "outputId": "ea1fcd83-5011-4487-bb4c-e06ccd4c1a7c"
      },
      "source": [
        "#please enter your answer below this line\n",
        "\n",
        "num1 = int (input(\"Enter the first number: \"))\n",
        "num2 = int (input(\"Enter the second number: \"))\n",
        "num3 = int (input(\"Enter the third number: \"))\n",
        "if (num1>num2) and (num1>num3):\n",
        "  largest=num1\n",
        "elif (num2>num1) and (num2>num3):\n",
        "  largest=num2\n",
        "else:\n",
        "  largest=num3\n",
        "print(\"The largest number is\", largest)"
      ],
      "execution_count": 8,
      "outputs": [
        {
          "output_type": "stream",
          "text": [
            "Enter the first number: 1\n",
            "Enter the second number: 2\n",
            "Enter the third number: 3\n",
            "The largest number is 3\n"
          ],
          "name": "stdout"
        }
      ]
    },
    {
      "cell_type": "markdown",
      "metadata": {
        "id": "g8WcqyVC8Cna"
      },
      "source": [
        "3 - Write a function to prompt for a score between 0.0 and 1.0.\n",
        "\n",
        "```\n",
        "If the score is out of range, print an error.\n",
        "If the score is between 0.0 and 1.0, print a grade using the following table:\n",
        "Score Grade\n",
        "        Score    Grade\n",
        "        >=0.9      A\n",
        "        >=0.8      B\n",
        "        >=0.7      C\n",
        "        >=0.6      D\n",
        "        < 0.6      F\n",
        "```\n",
        "\n",
        "If the user enters a value out of range, print a suitable error message and exit. For the test, enter a score of 0.85."
      ]
    },
    {
      "cell_type": "code",
      "metadata": {
        "colab": {
          "base_uri": "https://localhost:8080/"
        },
        "id": "lhFCORX58EQm",
        "outputId": "c82907ee-d7a1-4320-b024-6b3133081690"
      },
      "source": [
        "#please enter your answer below this line\n",
        "\n",
        "score = float(input(\"Enter Score: \"))\n",
        "if (score>1.0):\n",
        "  print(\"out of range\")\n",
        "elif (score>=0.9):\n",
        "  print(\"A\")\n",
        "elif (score>=0.8):\n",
        "  print(\"B\")\n",
        "elif (score>=0.7):\n",
        "  print(\"C\")\n",
        "elif (score>=0.6):\n",
        "  print(\"D\")\n",
        "elif (score<0.6):\n",
        "  print(\"F\")"
      ],
      "execution_count": null,
      "outputs": [
        {
          "output_type": "stream",
          "text": [
            "Enter Score: 0.85\n",
            "B\n"
          ],
          "name": "stdout"
        }
      ]
    }
  ]
}