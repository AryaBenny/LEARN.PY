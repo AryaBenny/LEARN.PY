{
  "nbformat": 4,
  "nbformat_minor": 0,
  "metadata": {
    "colab": {
      "name": "Task15.ipynb",
      "provenance": [],
      "authorship_tag": "ABX9TyNlXynCe2AqpWTEZhbsdGbS",
      "include_colab_link": true
    },
    "kernelspec": {
      "name": "python3",
      "display_name": "Python 3"
    },
    "language_info": {
      "name": "python"
    }
  },
  "cells": [
    {
      "cell_type": "markdown",
      "metadata": {
        "id": "view-in-github",
        "colab_type": "text"
      },
      "source": [
        "<a href=\"https://colab.research.google.com/github/AryaBenny/LEARN.PY/blob/main/Task15.ipynb\" target=\"_parent\"><img src=\"https://colab.research.google.com/assets/colab-badge.svg\" alt=\"Open In Colab\"/></a>"
      ]
    },
    {
      "cell_type": "markdown",
      "metadata": {
        "id": "VTn_9wQ4YzuR"
      },
      "source": [
        "1. For the given ndarray b below, evaluate whether elements in array b are equal to 'red'. Assign the result to b_bool and print the resultant boolean array.\n",
        "b = np.array([\"blue\", \"blue\", \"red\", \"blue\"])"
      ]
    },
    {
      "cell_type": "code",
      "metadata": {
        "id": "R-eeYPvsYTXd",
        "colab": {
          "base_uri": "https://localhost:8080/"
        },
        "outputId": "6c09d937-3666-4745-f16c-2fad67ae1d7a"
      },
      "source": [
        "#please type your answer below this line.\n",
        "\n",
        "import numpy as np\n",
        "b = np.array([\"blue\",\"blue\",\"red\",\"blue\"])\n",
        "b_bool = b=='red'\n",
        "print(\"Resultant boolean array is:\\n\", b_bool)"
      ],
      "execution_count": 12,
      "outputs": [
        {
          "output_type": "stream",
          "text": [
            "Resultant boolean array is:\n",
            " [False False  True False]\n"
          ],
          "name": "stdout"
        }
      ]
    },
    {
      "cell_type": "markdown",
      "metadata": {
        "id": "J74M9IOddNFE"
      },
      "source": [
        "2. Create two arrays on containing elements from 0-5 and another containing elements from 6-10. Then append this array."
      ]
    },
    {
      "cell_type": "code",
      "metadata": {
        "id": "1-HB8JuLdxwV",
        "colab": {
          "base_uri": "https://localhost:8080/"
        },
        "outputId": "dbb1f24b-987a-4cc9-bb23-7d32a321294b"
      },
      "source": [
        "#please type your answer below this line.\n",
        "\n",
        "import numpy as np\n",
        "a = np.arange(0,6)\n",
        "b = np.arange(6,11)\n",
        "print(\"Appended array is:\\n\", np.append(a,b))"
      ],
      "execution_count": 13,
      "outputs": [
        {
          "output_type": "stream",
          "text": [
            "Appended array is:\n",
            " [ 0  1  2  3  4  5  6  7  8  9 10]\n"
          ],
          "name": "stdout"
        }
      ]
    },
    {
      "cell_type": "markdown",
      "metadata": {
        "id": "MeJrSRMEeKh5"
      },
      "source": [
        "3. Create a 2x4 array containing values from 0-7 and another 2x4 containing values from 8-15. Now append this with,\n",
        "\n",
        "  a) axis as 0\n",
        "\n",
        "  b) axis as 1"
      ]
    },
    {
      "cell_type": "code",
      "metadata": {
        "id": "utXLxnCTeOR0",
        "colab": {
          "base_uri": "https://localhost:8080/"
        },
        "outputId": "c848c881-ff18-4869-a0b9-54b78a6e9968"
      },
      "source": [
        "#please type your answer below this line.\n",
        "\n",
        "import numpy as np\n",
        "x = np.arange(0,8).reshape(2,4)\n",
        "y = np.arange(8,16).reshape(2,4)\n",
        "print(\"Appended array with axis as 0 is:\\n\", np.append(x,y,axis=0))\n",
        "print(\"\\nAppended array with axis as 1 is:\\n\", np.append(x,y,axis=1))"
      ],
      "execution_count": 14,
      "outputs": [
        {
          "output_type": "stream",
          "text": [
            "Appended array with axis as 0 is:\n",
            " [[ 0  1  2  3]\n",
            " [ 4  5  6  7]\n",
            " [ 8  9 10 11]\n",
            " [12 13 14 15]]\n",
            "\n",
            "Appended array with axis as 1 is:\n",
            " [[ 0  1  2  3  8  9 10 11]\n",
            " [ 4  5  6  7 12 13 14 15]]\n"
          ],
          "name": "stdout"
        }
      ]
    }
  ]
}