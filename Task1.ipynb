{
  "nbformat": 4,
  "nbformat_minor": 0,
  "metadata": {
    "colab": {
      "name": "Task1.ipynb",
      "provenance": [],
      "authorship_tag": "ABX9TyP6HDDPB/i/lV1kcxBmZFu5",
      "include_colab_link": true
    },
    "kernelspec": {
      "name": "python3",
      "display_name": "Python 3"
    },
    "language_info": {
      "name": "python"
    }
  },
  "cells": [
    {
      "cell_type": "markdown",
      "metadata": {
        "id": "view-in-github",
        "colab_type": "text"
      },
      "source": [
        "<a href=\"https://colab.research.google.com/github/AryaBenny/LEARN.PY/blob/main/Task1.ipynb\" target=\"_parent\"><img src=\"https://colab.research.google.com/assets/colab-badge.svg\" alt=\"Open In Colab\"/></a>"
      ]
    },
    {
      "cell_type": "markdown",
      "metadata": {
        "id": "ns3YVZCJjVMk"
      },
      "source": [
        "1.Write a program that uses input to prompt a user for their name and then welcomes them."
      ]
    },
    {
      "cell_type": "code",
      "metadata": {
        "id": "fHzAMTZAfL2-",
        "colab": {
          "base_uri": "https://localhost:8080/"
        },
        "outputId": "65bc09d5-d5db-4214-aa90-ca4dce6dba61"
      },
      "source": [
        "name = input(\"Enter your name: \")\n",
        "print(\"Welcome \" + name + \"!\")"
      ],
      "execution_count": 2,
      "outputs": [
        {
          "output_type": "stream",
          "text": [
            "Enter your name: Mac Newborn\n",
            "Welcome Mac Newborn!\n"
          ],
          "name": "stdout"
        }
      ]
    },
    {
      "cell_type": "markdown",
      "metadata": {
        "id": "WbO7aivjmMku"
      },
      "source": [
        "2.Write a program which prompts the user for a Celsius temperature, convert the temperature to Fahrenheit, and print out the converted temperature."
      ]
    },
    {
      "cell_type": "code",
      "metadata": {
        "colab": {
          "base_uri": "https://localhost:8080/"
        },
        "id": "6jAJ3EPFmdhx",
        "outputId": "7a427e67-356a-4639-8d34-cb3fca3f8eec"
      },
      "source": [
        "celsius=int(input(\"Enter the temperature in celsius: \"))\n",
        "f=(celsius*1.8)+32\n",
        "print(\"Temperature in fahrenheit is: \",f)"
      ],
      "execution_count": null,
      "outputs": [
        {
          "output_type": "stream",
          "text": [
            "Enter the temperature in celsius: 32\n",
            "Temperature in fahrenheit is:  89.6\n"
          ],
          "name": "stdout"
        }
      ]
    },
    {
      "cell_type": "markdown",
      "metadata": {
        "id": "sgetVjX-vpun"
      },
      "source": [
        "3.Write a Python program to convert degree to radian."
      ]
    },
    {
      "cell_type": "code",
      "metadata": {
        "colab": {
          "base_uri": "https://localhost:8080/"
        },
        "id": "u_NWu6AdyTim",
        "outputId": "e8940e58-a463-47b7-ea27-4eb6f3b9e97d"
      },
      "source": [
        "pi=22/7\n",
        "degree=float(input(\"Enter the value in degrees: \"))\n",
        "radian=degree*(pi/180)\n",
        "print(radian)"
      ],
      "execution_count": null,
      "outputs": [
        {
          "output_type": "stream",
          "text": [
            "Enter the value in degrees: 90\n",
            "1.5714285714285714\n"
          ],
          "name": "stdout"
        }
      ]
    }
  ]
}