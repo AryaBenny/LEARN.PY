{
  "nbformat": 4,
  "nbformat_minor": 0,
  "metadata": {
    "colab": {
      "name": "Task18.ipynb",
      "provenance": [],
      "authorship_tag": "ABX9TyO87T+bRfCS30vwac9yrOw7",
      "include_colab_link": true
    },
    "kernelspec": {
      "name": "python3",
      "display_name": "Python 3"
    },
    "language_info": {
      "name": "python"
    }
  },
  "cells": [
    {
      "cell_type": "markdown",
      "metadata": {
        "id": "view-in-github",
        "colab_type": "text"
      },
      "source": [
        "<a href=\"https://colab.research.google.com/github/AryaBenny/LEARN.PY/blob/main/Task18.ipynb\" target=\"_parent\"><img src=\"https://colab.research.google.com/assets/colab-badge.svg\" alt=\"Open In Colab\"/></a>"
      ]
    },
    {
      "cell_type": "markdown",
      "metadata": {
        "id": "SrZ2wsmGF0xz"
      },
      "source": [
        "1. Create a DataFrame by passing a random numpy array, with a datetie index and labelled columns, and\n",
        " - slice its first three rows and display.\n",
        " - slice its odd indexed rows.\n",
        " - display the dates from 1st position to 4th position."
      ]
    },
    {
      "cell_type": "code",
      "metadata": {
        "id": "7j4SaY_bE_vk",
        "colab": {
          "base_uri": "https://localhost:8080/"
        },
        "outputId": "56d8fed1-9481-4d59-cffa-07c9755ff30e"
      },
      "source": [
        "#please provide your answer below this line.\n",
        "\n",
        "import numpy as np\n",
        "import pandas as pd\n",
        "datetie = pd.date_range('20200101',periods=5)\n",
        "df = pd.DataFrame(np.random.randn(5,4),index=datetie,columns=list('ABCD'))\n",
        "print(\"Sliced first three rows are:\\n\",df.iloc[0:3])\n",
        "print(\"\\nSliced odd indexed rows are:\\n\",df.iloc[1::2])\n",
        "print(\"\\nDates from 1st position to 4th position is:\\n\",df.iloc[1:5])"
      ],
      "execution_count": 32,
      "outputs": [
        {
          "output_type": "stream",
          "name": "stdout",
          "text": [
            "Sliced first three rows are:\n",
            "                    A         B         C         D\n",
            "2020-01-01  2.041826 -1.093933 -0.262662  0.213737\n",
            "2020-01-02  1.926098 -0.699740  0.984296 -0.986942\n",
            "2020-01-03 -0.968508 -0.839518  0.535711  0.431242\n",
            "\n",
            "Sliced odd indexed rows are:\n",
            "                    A         B         C         D\n",
            "2020-01-02  1.926098 -0.699740  0.984296 -0.986942\n",
            "2020-01-04  0.208524 -1.315842  0.323974 -1.548583\n",
            "\n",
            "Dates from 1st position to 4th position is:\n",
            "                    A         B         C         D\n",
            "2020-01-02  1.926098 -0.699740  0.984296 -0.986942\n",
            "2020-01-03 -0.968508 -0.839518  0.535711  0.431242\n",
            "2020-01-04  0.208524 -1.315842  0.323974 -1.548583\n",
            "2020-01-05 -1.214403 -0.224943  1.928344  0.602340\n"
          ]
        }
      ]
    },
    {
      "cell_type": "markdown",
      "metadata": {
        "id": "lhnPfobzMI2Q"
      },
      "source": [
        "2. Create a DataFrame by passing a random numpy array, with a datetie index and labelled columns, and\n",
        " - Display the index from the 1 to 3 date and the columns A and B of respective data.\n",
        " - Display the datas at the 3rd index.\n",
        " - Display datas from 2nd to 5th.\n",
        " - Display the datas from the index 1,2,4 and the column 0 and 2."
      ]
    },
    {
      "cell_type": "code",
      "metadata": {
        "id": "aZZcPl8OPsxU",
        "colab": {
          "base_uri": "https://localhost:8080/"
        },
        "outputId": "e7144bf0-f552-46e0-e800-06c8a7a43ff4"
      },
      "source": [
        "#please provide your answer below this line.\n",
        "\n",
        "import numpy as np\n",
        "import pandas as pd\n",
        "datetie = pd.date_range('20180101',periods=9)\n",
        "df = pd.DataFrame(np.random.randn(9,4),index=datetie,columns=list('ABCD'))\n",
        "print(\"Index from the 1 to 3 date and the columns A and B are:\\n\",df.iloc[0:3,0:2])\n",
        "print(\"\\nDatas at the 3rd index are:\\n\",df.iloc[3])\n",
        "print(\"\\nDatas from 2nd to 5th are:\\n\",df.iloc[2:6])\n",
        "print(\"\\nDatas from the index 1,2,4 and the column 0 and 2 are:\\n\",df.iloc[[1,2,4],[0,2]])"
      ],
      "execution_count": 33,
      "outputs": [
        {
          "output_type": "stream",
          "name": "stdout",
          "text": [
            "Index from the 1 to 3 date and the columns A and B are:\n",
            "                    A         B\n",
            "2018-01-01 -0.344225 -0.829051\n",
            "2018-01-02 -0.045106  0.644720\n",
            "2018-01-03 -0.538499  1.299255\n",
            "\n",
            "Datas at the 3rd index are:\n",
            " A    1.432256\n",
            "B   -0.802726\n",
            "C   -0.645767\n",
            "D   -2.478352\n",
            "Name: 2018-01-04 00:00:00, dtype: float64\n",
            "\n",
            "Datas from 2nd to 5th are:\n",
            "                    A         B         C         D\n",
            "2018-01-03 -0.538499  1.299255 -0.271458 -0.902054\n",
            "2018-01-04  1.432256 -0.802726 -0.645767 -2.478352\n",
            "2018-01-05  0.188105 -2.147889 -1.155073  0.576128\n",
            "2018-01-06  0.789047  0.659841  0.442788 -0.795587\n",
            "\n",
            "Datas from the index 1,2,4 and the column 0 and 2 are:\n",
            "                    A         C\n",
            "2018-01-02 -0.045106  0.952355\n",
            "2018-01-03 -0.538499 -0.271458\n",
            "2018-01-05  0.188105 -1.155073\n"
          ]
        }
      ]
    }
  ]
}