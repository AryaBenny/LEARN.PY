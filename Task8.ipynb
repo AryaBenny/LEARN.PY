{
  "nbformat": 4,
  "nbformat_minor": 0,
  "metadata": {
    "colab": {
      "name": "Task8.ipynb",
      "provenance": [],
      "authorship_tag": "ABX9TyN4s0B/3D7WGJLDYjGe5zia",
      "include_colab_link": true
    },
    "kernelspec": {
      "name": "python3",
      "display_name": "Python 3"
    },
    "language_info": {
      "name": "python"
    }
  },
  "cells": [
    {
      "cell_type": "markdown",
      "metadata": {
        "id": "view-in-github",
        "colab_type": "text"
      },
      "source": [
        "<a href=\"https://colab.research.google.com/github/AryaBenny/LEARN.PY/blob/main/Task8.ipynb\" target=\"_parent\"><img src=\"https://colab.research.google.com/assets/colab-badge.svg\" alt=\"Open In Colab\"/></a>"
      ]
    },
    {
      "cell_type": "markdown",
      "metadata": {
        "id": "NEsjAcqdW-ke"
      },
      "source": [
        "1. Generate a 3 x 3 matrix using random module."
      ]
    },
    {
      "cell_type": "code",
      "metadata": {
        "id": "RllqM0K9WUou",
        "colab": {
          "base_uri": "https://localhost:8080/"
        },
        "outputId": "a8b13ef2-d87f-45c2-f730-cdb92603b070"
      },
      "source": [
        "#please provide your answer below this line.\n",
        "\n",
        "import numpy as np\n",
        "Matrix = np.random.randint(10,size=(3,3))\n",
        "print(Matrix)"
      ],
      "execution_count": null,
      "outputs": [
        {
          "output_type": "stream",
          "text": [
            "[[3 6 5]\n",
            " [1 0 2]\n",
            " [9 2 7]]\n"
          ],
          "name": "stdout"
        }
      ]
    },
    {
      "cell_type": "markdown",
      "metadata": {
        "id": "BNS_lbCuXtqg"
      },
      "source": [
        "2. Generate two 4 x 4 matrix using numpy and\n",
        "\n",
        "  a) Reshape it to 2 x 8 matrix and vertically stack it.\n",
        "\n",
        "  b) Reshape it to 2 x 8 matrix and horizontally stack it."
      ]
    },
    {
      "cell_type": "code",
      "metadata": {
        "id": "qBNXcEUwXumS",
        "colab": {
          "base_uri": "https://localhost:8080/"
        },
        "outputId": "ad7f97c0-d8fe-4784-94c0-dc9cbefb021d"
      },
      "source": [
        "#please provide your answer below this line.\n",
        "\n",
        "import numpy as np\n",
        "x = np.random.randint(20,size=(4,4))\n",
        "y = np.random.randint(25,size=(4,4))\n",
        "print(x)\n",
        "print()\n",
        "print(y)\n",
        "print()\n",
        "X = x.reshape(2,8)\n",
        "Y = y.reshape(2,8)\n",
        "print(\"Matrix after reshape: \")\n",
        "print()\n",
        "print(X)\n",
        "print()\n",
        "print(Y)\n",
        "print()\n",
        "matrix = np.vstack((X,Y))\n",
        "print(\"Vertically stack Matrix: \")\n",
        "print()\n",
        "print(matrix)\n",
        "print()\n",
        "matrix = np.hstack((X,Y))\n",
        "print(\"Horizontally stack Matrix: \")\n",
        "print()\n",
        "print(matrix)"
      ],
      "execution_count": 12,
      "outputs": [
        {
          "output_type": "stream",
          "text": [
            "[[ 2  7  5 11]\n",
            " [ 0  2  2  8]\n",
            " [ 3 19 15  0]\n",
            " [11 14  3 17]]\n",
            "\n",
            "[[15  5  9 23]\n",
            " [19 13 11 16]\n",
            " [ 7 14  0 24]\n",
            " [ 9 19  3  3]]\n",
            "\n",
            "Matrix after reshape: \n",
            "\n",
            "[[ 2  7  5 11  0  2  2  8]\n",
            " [ 3 19 15  0 11 14  3 17]]\n",
            "\n",
            "[[15  5  9 23 19 13 11 16]\n",
            " [ 7 14  0 24  9 19  3  3]]\n",
            "\n",
            "Vertically stack Matrix: \n",
            "\n",
            "[[ 2  7  5 11  0  2  2  8]\n",
            " [ 3 19 15  0 11 14  3 17]\n",
            " [15  5  9 23 19 13 11 16]\n",
            " [ 7 14  0 24  9 19  3  3]]\n",
            "\n",
            "Horizontally stack Matrix: \n",
            "\n",
            "[[ 2  7  5 11  0  2  2  8 15  5  9 23 19 13 11 16]\n",
            " [ 3 19 15  0 11 14  3 17  7 14  0 24  9 19  3  3]]\n"
          ],
          "name": "stdout"
        }
      ]
    }
  ]
}