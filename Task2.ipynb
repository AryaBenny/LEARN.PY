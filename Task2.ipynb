{
  "nbformat": 4,
  "nbformat_minor": 0,
  "metadata": {
    "colab": {
      "name": "Task2.ipynb",
      "provenance": [],
      "authorship_tag": "ABX9TyMunOmWiM4LXmkYmbGitXWd",
      "include_colab_link": true
    },
    "kernelspec": {
      "name": "python3",
      "display_name": "Python 3"
    },
    "language_info": {
      "name": "python"
    }
  },
  "cells": [
    {
      "cell_type": "markdown",
      "metadata": {
        "id": "view-in-github",
        "colab_type": "text"
      },
      "source": [
        "<a href=\"https://colab.research.google.com/github/AryaBenny/LEARN.PY/blob/main/Task2.ipynb\" target=\"_parent\"><img src=\"https://colab.research.google.com/assets/colab-badge.svg\" alt=\"Open In Colab\"/></a>"
      ]
    },
    {
      "cell_type": "markdown",
      "metadata": {
        "id": "Gfja5tJeex4o"
      },
      "source": [
        "1 ) Consider i = 2, write a program to convert i to float.\n",
        "\n",
        "```\n",
        "(Expected Output = 2.0)\n",
        "```\n"
      ]
    },
    {
      "cell_type": "code",
      "metadata": {
        "id": "KXC74nMHbJYH",
        "colab": {
          "base_uri": "https://localhost:8080/"
        },
        "outputId": "72a640de-7dde-4fb9-ba81-a8f4854872c7"
      },
      "source": [
        "#please enter the code below this line\n",
        "i = 2\n",
        "float(i)"
      ],
      "execution_count": 16,
      "outputs": [
        {
          "output_type": "execute_result",
          "data": {
            "text/plain": [
              "2.0"
            ]
          },
          "metadata": {
            "tags": []
          },
          "execution_count": 16
        }
      ]
    },
    {
      "cell_type": "markdown",
      "metadata": {
        "id": "Pb4WcwJufd9n"
      },
      "source": [
        "2 ) Consider x = \"Hello\" and y = \"World\", then write a program to concatenate the strings to a single string and print the result.\n",
        "\n",
        "```\n",
        "(Expected output = Hello World)\n",
        "```\n"
      ]
    },
    {
      "cell_type": "code",
      "metadata": {
        "id": "sJU_CX4bftNh",
        "colab": {
          "base_uri": "https://localhost:8080/"
        },
        "outputId": "4e1cab30-21bf-412b-974d-b65dcb9fc8f2"
      },
      "source": [
        "#please enter the code below this line\n",
        "x = \"Hello \"\n",
        "y = \"World\"\n",
        "z = x + y\n",
        "print(z)"
      ],
      "execution_count": 15,
      "outputs": [
        {
          "output_type": "stream",
          "text": [
            "Hello World\n"
          ],
          "name": "stdout"
        }
      ]
    },
    {
      "cell_type": "markdown",
      "metadata": {
        "id": "hk61_S5dfvwz"
      },
      "source": [
        "3 ) Consider pi = 3.14, print the value of pi and its type."
      ]
    },
    {
      "cell_type": "code",
      "metadata": {
        "id": "Yum7DHbDgAjP",
        "colab": {
          "base_uri": "https://localhost:8080/"
        },
        "outputId": "091a1f39-1182-4dea-9274-d23a88fa3aab"
      },
      "source": [
        "#please enter the code below this line\n",
        "pi = 3.14\n",
        "print(pi)\n",
        "type(pi)"
      ],
      "execution_count": 14,
      "outputs": [
        {
          "output_type": "stream",
          "text": [
            "3.14\n"
          ],
          "name": "stdout"
        },
        {
          "output_type": "execute_result",
          "data": {
            "text/plain": [
              "float"
            ]
          },
          "metadata": {
            "tags": []
          },
          "execution_count": 14
        }
      ]
    }
  ]
}