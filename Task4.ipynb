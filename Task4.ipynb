{
  "nbformat": 4,
  "nbformat_minor": 0,
  "metadata": {
    "colab": {
      "name": "Task4.ipynb",
      "provenance": [],
      "authorship_tag": "ABX9TyOkF63AiZ2ErC4smZFBy//t",
      "include_colab_link": true
    },
    "kernelspec": {
      "name": "python3",
      "display_name": "Python 3"
    },
    "language_info": {
      "name": "python"
    }
  },
  "cells": [
    {
      "cell_type": "markdown",
      "metadata": {
        "id": "view-in-github",
        "colab_type": "text"
      },
      "source": [
        "<a href=\"https://colab.research.google.com/github/AryaBenny/LEARN.PY/blob/main/Task4.ipynb\" target=\"_parent\"><img src=\"https://colab.research.google.com/assets/colab-badge.svg\" alt=\"Open In Colab\"/></a>"
      ]
    },
    {
      "cell_type": "markdown",
      "metadata": {
        "id": "TCdD-onYmhY0"
      },
      "source": [
        "1. Create a dictionary that contains\n",
        "\n",
        "```\n",
        "name = Alex Ryder\n",
        "age  = 28\n",
        "```\n",
        "\n",
        "Update the age to 32 and another element to the dictionary\n",
        "\n",
        "```\n",
        "age  = 32\n",
        "town = calicut\n",
        "```\n",
        "\n",
        "Expected output\n",
        "\n",
        "```\n",
        "{'name': 'Alex Ryder', 'age': 32, 'town': 'calicut'}\n",
        "```\n"
      ]
    },
    {
      "cell_type": "code",
      "metadata": {
        "id": "y4vKbNcOlrFd",
        "colab": {
          "base_uri": "https://localhost:8080/"
        },
        "outputId": "e59549c3-1948-444c-e8ef-6b16f6b8d510"
      },
      "source": [
        "#please enter your answer below this line\n",
        "\n",
        "dictionary = {'name': 'Alex Ryder', 'age': 28}\n",
        "dictionary['age'] = 32\n",
        "dictionary['town'] = 'calicut'\n",
        "print(dictionary)"
      ],
      "execution_count": 1,
      "outputs": [
        {
          "output_type": "stream",
          "text": [
            "{'name': 'Alex Ryder', 'age': 32, 'town': 'calicut'}\n"
          ],
          "name": "stdout"
        }
      ]
    },
    {
      "cell_type": "markdown",
      "metadata": {
        "id": "DGHY0ezjq4K0"
      },
      "source": [
        "2. Create a dictionary containing the squares of numbers from 1 to 5.\n",
        "\n",
        "Expected output\n",
        "\n",
        "```\n",
        "{1: 1, 2: 4, 3: 9, 4: 16, 5: 25}\n",
        "```\n",
        "\n",
        "From this dictionary remove the item 3 and its square.\n",
        "\n",
        "Expected output\n",
        "\n",
        "```\n",
        "{1: 1, 2: 4, 4: 16, 5: 25}\n",
        "```\n",
        "\n",
        "Now remove all items from the dictionary.\n",
        "\n",
        "Expected output\n",
        "\n",
        "```\n",
        "{}\n",
        "```\n",
        "\n",
        "Now delete the dictionary itself."
      ]
    },
    {
      "cell_type": "code",
      "metadata": {
        "id": "p6SVtmAhq-e6",
        "colab": {
          "base_uri": "https://localhost:8080/"
        },
        "outputId": "6c3e6e82-5e93-4364-ef4c-9098980e2e5f"
      },
      "source": [
        "#please enter your answer below this line\n",
        "\n",
        "dictionary = {1: 1, 2: 4, 3: 9, 4: 16, 5:25}\n",
        "print(dictionary)\n",
        "dictionary.pop(3)\n",
        "print(dictionary)\n",
        "dictionary.clear()\n",
        "print(dictionary)"
      ],
      "execution_count": 11,
      "outputs": [
        {
          "output_type": "stream",
          "text": [
            "{1: 1, 2: 4, 3: 9, 4: 16, 5: 25}\n",
            "{1: 1, 2: 4, 4: 16, 5: 25}\n",
            "{}\n"
          ],
          "name": "stdout"
        }
      ]
    },
    {
      "cell_type": "markdown",
      "metadata": {
        "id": "j1sOJGTBrBeT"
      },
      "source": [
        "3. Make a set containing the elements 1, hello, (0,1,2).\n",
        "\n",
        "Expected output\n",
        "\n",
        "```\n",
        "{'hello', 1, (0, 1, 2)}\n",
        "```\n",
        "\n",
        "Now add the value 6 to the set.\n",
        "\n",
        "Expected output\n",
        "\n",
        "```\n",
        "{'hello', 1, (0, 1, 2), 6}\n",
        "```\n",
        "\n"
      ]
    },
    {
      "cell_type": "code",
      "metadata": {
        "id": "2z_1bgEsrCYY",
        "colab": {
          "base_uri": "https://localhost:8080/"
        },
        "outputId": "3b9cca3c-ae17-433a-9cfb-391df87b3bc5"
      },
      "source": [
        "#please enter your answer below this line\n",
        "\n",
        "set = {'hello', 1, (0, 1, 2)}\n",
        "print(set)\n",
        "set.add(6)\n",
        "print(set)"
      ],
      "execution_count": 15,
      "outputs": [
        {
          "output_type": "stream",
          "text": [
            "{(0, 1, 2), 1, 'hello'}\n",
            "{(0, 1, 2), 1, 'hello', 6}\n"
          ],
          "name": "stdout"
        }
      ]
    }
  ]
}