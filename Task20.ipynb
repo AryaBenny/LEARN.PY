{
  "nbformat": 4,
  "nbformat_minor": 0,
  "metadata": {
    "colab": {
      "name": "Task20.ipynb",
      "provenance": [],
      "authorship_tag": "ABX9TyONHy9D9LDSX/yzzWsON4hf",
      "include_colab_link": true
    },
    "kernelspec": {
      "name": "python3",
      "display_name": "Python 3"
    },
    "language_info": {
      "name": "python"
    }
  },
  "cells": [
    {
      "cell_type": "markdown",
      "metadata": {
        "id": "view-in-github",
        "colab_type": "text"
      },
      "source": [
        "<a href=\"https://colab.research.google.com/github/AryaBenny/LEARN.PY/blob/main/Task20.ipynb\" target=\"_parent\"><img src=\"https://colab.research.google.com/assets/colab-badge.svg\" alt=\"Open In Colab\"/></a>"
      ]
    },
    {
      "cell_type": "markdown",
      "metadata": {
        "id": "O_PhxpvSmajn"
      },
      "source": [
        "1. In the data given below,\n",
        " - find the boolean mask where value is nan.\n",
        " - remove the row with missing data."
      ]
    },
    {
      "cell_type": "code",
      "metadata": {
        "colab": {
          "base_uri": "https://localhost:8080/"
        },
        "id": "-KV0rv2ZkS5q",
        "outputId": "8f5f7714-d3ab-4608-978b-964cfbcd7274"
      },
      "source": [
        "import pandas as pd\n",
        "import numpy as np\n",
        "dates = pd.date_range('20210101',periods=6)\n",
        "df = pd.DataFrame(np.random.randn(6,4),index=dates,columns=list('ABCD'))\n",
        "s1 = pd.Series([1,2,3,4,5,6],index=pd.date_range('20130102',periods=6))\n",
        "df[\"F\"] = s1\n",
        "df1 = df.reindex(index=dates[0:4],columns=list(df.columns)+['E'])\n",
        "df1.loc[dates[0]:dates[1],'E'] = 1\n",
        "df1\n",
        "#please provide your answer below this line\n",
        "print(\"Data is:\\n\",df1)\n",
        "print(\"\\nBoolean mask where value is nan is:\\n\",df1.isnull())\n",
        "print(\"\\nAfter removed the row with missing data is:\\n\",df1.dropna())"
      ],
      "execution_count": 18,
      "outputs": [
        {
          "output_type": "stream",
          "name": "stdout",
          "text": [
            "Data is:\n",
            "                    A         B         C         D   F    E\n",
            "2021-01-01  0.414448  1.066122 -0.169609  1.054988 NaN  1.0\n",
            "2021-01-02 -0.380327 -1.257942 -0.739856  0.004308 NaN  1.0\n",
            "2021-01-03 -0.468191  0.690443 -0.072946 -0.266331 NaN  NaN\n",
            "2021-01-04 -1.413031 -0.546177 -0.227289  0.375548 NaN  NaN\n",
            "\n",
            "Boolean mask where value is nan is:\n",
            "                 A      B      C      D     F      E\n",
            "2021-01-01  False  False  False  False  True  False\n",
            "2021-01-02  False  False  False  False  True  False\n",
            "2021-01-03  False  False  False  False  True   True\n",
            "2021-01-04  False  False  False  False  True   True\n",
            "\n",
            "After removed the row with missing data is:\n",
            " Empty DataFrame\n",
            "Columns: [A, B, C, D, F, E]\n",
            "Index: []\n"
          ]
        }
      ]
    },
    {
      "cell_type": "markdown",
      "metadata": {
        "id": "6pwcjE559FSY"
      },
      "source": [
        "2. In the data given below, fill the missing data with 20."
      ]
    },
    {
      "cell_type": "code",
      "metadata": {
        "colab": {
          "base_uri": "https://localhost:8080/"
        },
        "id": "KpVO1XL1-KMp",
        "outputId": "592d9fe5-8014-488e-e8d8-46eb83495597"
      },
      "source": [
        "import pandas as pd\n",
        "import numpy as np\n",
        "dates = pd.date_range('20210101',periods=6)\n",
        "df = pd.DataFrame(np.random.randn(6,4),index=dates,columns=list('ABCD'))\n",
        "s1 = pd.Series([1,2,3,4,5,6],index=pd.date_range('20130102',periods=6))\n",
        "df[\"F\"] = s1\n",
        "df1 = df.reindex(index=dates[0:4],columns=list(df.columns)+['E'])\n",
        "df1.loc[dates[0]:dates[1],'E'] = 1\n",
        "df1\n",
        "#please provide your answer below this line\n",
        "print(\"Data is:\\n\",df1)\n",
        "print(\"\\nAfter filled the missing data with 20 is:\\n\",df1.fillna(value=20))"
      ],
      "execution_count": 19,
      "outputs": [
        {
          "output_type": "stream",
          "name": "stdout",
          "text": [
            "Data is:\n",
            "                    A         B         C         D   F    E\n",
            "2021-01-01  1.343622  1.746766  2.490659  0.126505 NaN  1.0\n",
            "2021-01-02  0.650361  0.919432 -2.075527 -0.850528 NaN  1.0\n",
            "2021-01-03  0.582207 -0.493994 -2.366155  0.577085 NaN  NaN\n",
            "2021-01-04 -0.497792  0.240977  1.260716 -2.436350 NaN  NaN\n",
            "\n",
            "After filled the missing data with 20 is:\n",
            "                    A         B         C         D     F     E\n",
            "2021-01-01  1.343622  1.746766  2.490659  0.126505  20.0   1.0\n",
            "2021-01-02  0.650361  0.919432 -2.075527 -0.850528  20.0   1.0\n",
            "2021-01-03  0.582207 -0.493994 -2.366155  0.577085  20.0  20.0\n",
            "2021-01-04 -0.497792  0.240977  1.260716 -2.436350  20.0  20.0\n"
          ]
        }
      ]
    },
    {
      "cell_type": "markdown",
      "metadata": {
        "id": "qEvXVwu1SK1e"
      },
      "source": [
        "3. From the data given below,\n",
        " - break the data in to pieces from 0 to 2, 3 to 7.\n",
        " - concatenate the pieces.\n",
        " - concatenate the pieces along axis 1.\n",
        " - label each as 'a' and 'b' respectively and perform concatenation."
      ]
    },
    {
      "cell_type": "code",
      "metadata": {
        "colab": {
          "base_uri": "https://localhost:8080/"
        },
        "id": "Wg8JrBMsVUox",
        "outputId": "4a2b0a2c-10e0-4eff-e647-1c61d78ae095"
      },
      "source": [
        "import pandas as pd\n",
        "import numpy as np\n",
        "df = pd.DataFrame(np.random.randn(10,4))\n",
        "df\n",
        "#please provide your answer below this line\n",
        "print(\"Data is:\\n\",df)\n",
        "print(\"\\nAfter break the data into pieces from 0 to 2, 3 to 7 are:\\n\",df[0:3],df[3:8])\n",
        "print(\"\\nAfter concatenate the pieces are:\\n\",pd.concat([df[0:3],df[3:8]]))\n",
        "print(\"\\nAfter concatenate the pieces along axis 1 are:\\n\",pd.concat([df[0:3],df[3:8]],axis=1))\n",
        "a = df[0:3]\n",
        "b = df[3:8]\n",
        "print(\"\\nAfter labelled each as 'a' and 'b' respectively and performed concatenation are:\\n\",pd.concat([a,b]))"
      ],
      "execution_count": 20,
      "outputs": [
        {
          "output_type": "stream",
          "name": "stdout",
          "text": [
            "Data is:\n",
            "           0         1         2         3\n",
            "0  0.621130  1.114046 -0.297959  0.566306\n",
            "1  0.391897  1.043038 -0.612202 -0.078442\n",
            "2 -0.418226  0.388092  0.076544 -0.729018\n",
            "3 -1.138070 -2.072626 -1.101324 -0.612209\n",
            "4 -0.976243 -0.578040 -0.685164  0.506612\n",
            "5  0.355690 -1.202437 -0.925178 -0.930135\n",
            "6  0.674550  0.161902 -0.388052 -0.082783\n",
            "7  1.685528  0.256562 -0.509694 -1.061271\n",
            "8  0.117827 -2.251258 -0.220037  0.185168\n",
            "9 -0.170072 -0.345541 -2.422478 -0.167423\n",
            "\n",
            "After break the data into pieces from 0 to 2, 3 to 7 are:\n",
            "           0         1         2         3\n",
            "0  0.621130  1.114046 -0.297959  0.566306\n",
            "1  0.391897  1.043038 -0.612202 -0.078442\n",
            "2 -0.418226  0.388092  0.076544 -0.729018           0         1         2         3\n",
            "3 -1.138070 -2.072626 -1.101324 -0.612209\n",
            "4 -0.976243 -0.578040 -0.685164  0.506612\n",
            "5  0.355690 -1.202437 -0.925178 -0.930135\n",
            "6  0.674550  0.161902 -0.388052 -0.082783\n",
            "7  1.685528  0.256562 -0.509694 -1.061271\n",
            "\n",
            "After concatenate the pieces are:\n",
            "           0         1         2         3\n",
            "0  0.621130  1.114046 -0.297959  0.566306\n",
            "1  0.391897  1.043038 -0.612202 -0.078442\n",
            "2 -0.418226  0.388092  0.076544 -0.729018\n",
            "3 -1.138070 -2.072626 -1.101324 -0.612209\n",
            "4 -0.976243 -0.578040 -0.685164  0.506612\n",
            "5  0.355690 -1.202437 -0.925178 -0.930135\n",
            "6  0.674550  0.161902 -0.388052 -0.082783\n",
            "7  1.685528  0.256562 -0.509694 -1.061271\n",
            "\n",
            "After concatenate the pieces along axis 1 are:\n",
            "           0         1         2  ...         1         2         3\n",
            "0  0.621130  1.114046 -0.297959  ...       NaN       NaN       NaN\n",
            "1  0.391897  1.043038 -0.612202  ...       NaN       NaN       NaN\n",
            "2 -0.418226  0.388092  0.076544  ...       NaN       NaN       NaN\n",
            "3       NaN       NaN       NaN  ... -2.072626 -1.101324 -0.612209\n",
            "4       NaN       NaN       NaN  ... -0.578040 -0.685164  0.506612\n",
            "5       NaN       NaN       NaN  ... -1.202437 -0.925178 -0.930135\n",
            "6       NaN       NaN       NaN  ...  0.161902 -0.388052 -0.082783\n",
            "7       NaN       NaN       NaN  ...  0.256562 -0.509694 -1.061271\n",
            "\n",
            "[8 rows x 8 columns]\n",
            "\n",
            "After labelled each as 'a' and 'b' respectively and performed concatenation are:\n",
            "           0         1         2         3\n",
            "0  0.621130  1.114046 -0.297959  0.566306\n",
            "1  0.391897  1.043038 -0.612202 -0.078442\n",
            "2 -0.418226  0.388092  0.076544 -0.729018\n",
            "3 -1.138070 -2.072626 -1.101324 -0.612209\n",
            "4 -0.976243 -0.578040 -0.685164  0.506612\n",
            "5  0.355690 -1.202437 -0.925178 -0.930135\n",
            "6  0.674550  0.161902 -0.388052 -0.082783\n",
            "7  1.685528  0.256562 -0.509694 -1.061271\n"
          ]
        }
      ]
    }
  ]
}