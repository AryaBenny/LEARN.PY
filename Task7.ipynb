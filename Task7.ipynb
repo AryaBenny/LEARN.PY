{
  "nbformat": 4,
  "nbformat_minor": 0,
  "metadata": {
    "colab": {
      "name": "Task7.ipynb",
      "provenance": [],
      "authorship_tag": "ABX9TyOam/cfhEwk9OdjNE7eM3pc",
      "include_colab_link": true
    },
    "kernelspec": {
      "name": "python3",
      "display_name": "Python 3"
    },
    "language_info": {
      "name": "python"
    }
  },
  "cells": [
    {
      "cell_type": "markdown",
      "metadata": {
        "id": "view-in-github",
        "colab_type": "text"
      },
      "source": [
        "<a href=\"https://colab.research.google.com/github/AryaBenny/LEARN.PY/blob/main/Task7.ipynb\" target=\"_parent\"><img src=\"https://colab.research.google.com/assets/colab-badge.svg\" alt=\"Open In Colab\"/></a>"
      ]
    },
    {
      "cell_type": "markdown",
      "metadata": {
        "id": "t7hKIS0z0dRX"
      },
      "source": [
        "1. Write a program to check whether a string is palindrome or not using functions.\n",
        "\n",
        "(A function is to be created to check whether the string is palindrome and it should give the output true or false to the main program)"
      ]
    },
    {
      "cell_type": "code",
      "metadata": {
        "colab": {
          "base_uri": "https://localhost:8080/"
        },
        "id": "Z1-YUw65vtrC",
        "outputId": "32063a1b-4621-4031-8954-c9cb734ea10d"
      },
      "source": [
        "#please enter the code below this line.\n",
        "\n",
        "def isPalindrome(s):\n",
        "  return s == s[::-1]\n",
        "string = input('Enter the string: ')\n",
        "reverse = isPalindrome(string)\n",
        "if reverse:\n",
        "  print(string,'is a Palindrome')\n",
        "else:\n",
        "  print(string,'is not a Palindrome')"
      ],
      "execution_count": null,
      "outputs": [
        {
          "output_type": "stream",
          "text": [
            "Enter the string: refer\n",
            "refer is a Palindrome\n"
          ],
          "name": "stdout"
        }
      ]
    },
    {
      "cell_type": "markdown",
      "metadata": {
        "id": "x0AHSeXi24Ue"
      },
      "source": [
        "2. Write a menu driven program to find largest element in L, smallest element, avg of all values, sum of all values in L. All these operation should be performed in different functions and the result should be returned.\n",
        "\n",
        "```\n",
        "L=[23,24,11,90,1,41,9,99,28,56,72]\n",
        "```\n",
        "\n"
      ]
    },
    {
      "cell_type": "code",
      "metadata": {
        "colab": {
          "base_uri": "https://localhost:8080/"
        },
        "id": "MgGGa4a03FJP",
        "outputId": "d868e8f5-6993-4e16-f8b0-b69d827647d3"
      },
      "source": [
        "#please enter the code below this line.\n",
        "\n",
        "L=[23,24,11,90,1,41,9,99,28,56,72]\n",
        "\n",
        "Key = int (input(\"Enter 1 for Largest element in L, 2 for Smallest element in L, 3 for Sum of all values in L, 4 for Average of all values in L: \"))\n",
        "\n",
        "if Key == 1:\n",
        "  result = Largest(L)\n",
        "  print(\"Largest element in L=\",result)\n",
        "\n",
        "elif Key == 2:\n",
        "  result = Smallest(L)\n",
        "  print(\"Smallest element in L=\",result)\n",
        "\n",
        "elif Key == 3:\n",
        "  result = Sum(L)\n",
        "  print(\"Sum of all values in L=\",result)\n",
        "\n",
        "elif Key == 4:\n",
        "  result = Average(L)\n",
        "  print(\"Average of all values in L=\",result)\n",
        "\n",
        "else:\n",
        "  print(\"Invalid Choice!\")\n",
        "\n",
        "def Largest(L):\n",
        "  Largest = max(L)\n",
        "  return Largest\n",
        "\n",
        "def Smallest(L):\n",
        "  Smallest = min(L)\n",
        "  return Smallest\n",
        "\n",
        "def Sum(L):\n",
        "  Sum = sum(L)\n",
        "  return Sum\n",
        "\n",
        "def Average(L):\n",
        "  Average = sum(L)/len(L)\n",
        "  return Average"
      ],
      "execution_count": 26,
      "outputs": [
        {
          "output_type": "stream",
          "text": [
            "Enter 1 for Largest element in L, 2 for Smallest element in L, 3 for Sum of all values in L, 4 for Average of all values in L: 1\n",
            "Largest element in L= 99\n"
          ],
          "name": "stdout"
        }
      ]
    }
  ]
}