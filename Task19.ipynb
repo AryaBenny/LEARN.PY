{
  "nbformat": 4,
  "nbformat_minor": 0,
  "metadata": {
    "colab": {
      "name": "Task19.ipynb",
      "provenance": [],
      "collapsed_sections": [],
      "authorship_tag": "ABX9TyOyB9MlQmGwRLEuX2nbhg+0",
      "include_colab_link": true
    },
    "kernelspec": {
      "name": "python3",
      "display_name": "Python 3"
    },
    "language_info": {
      "name": "python"
    }
  },
  "cells": [
    {
      "cell_type": "markdown",
      "metadata": {
        "id": "view-in-github",
        "colab_type": "text"
      },
      "source": [
        "<a href=\"https://colab.research.google.com/github/AryaBenny/LEARN.PY/blob/main/Task19.ipynb\" target=\"_parent\"><img src=\"https://colab.research.google.com/assets/colab-badge.svg\" alt=\"Open In Colab\"/></a>"
      ]
    },
    {
      "cell_type": "markdown",
      "metadata": {
        "id": "fIiBt2yOkE-2"
      },
      "source": [
        "1. Create a DataFrame by passing a random numpy array, with a dateted index and labelled columns and display,\n",
        " - where values of the column A is greater than 0.\n",
        " - where values of the columns A is greater than 0 and B greater than -1.\n",
        " - where values of the columns A is greater than 0 or B greater than -1."
      ]
    },
    {
      "cell_type": "code",
      "metadata": {
        "id": "P4MGScgrjKlZ",
        "colab": {
          "base_uri": "https://localhost:8080/"
        },
        "outputId": "2566ba3c-6b5e-48bd-b2a3-9925584db26b"
      },
      "source": [
        "#please type your code below this line.\n",
        "\n",
        "import numpy as np\n",
        "import pandas as pd\n",
        "dateted = pd.date_range('20150101',periods=5)\n",
        "df = pd.DataFrame(np.random.randn(5,4),index=dateted,columns=list('ABCD'))\n",
        "print(\"Column is:\\n\",df)\n",
        "print(\"\\nValues of the column A is greater than 0 are:\\n\",df[df.A>0])\n",
        "print(\"\\nValues of the columns A is greater than 0 and B greater than -1 are:\\n\",df[(df.A>0)&(df.B>-1)])\n",
        "print(\"\\nValues of the columns A is greater than 0 or B greater than -1 are:\\n\",df[(df.A>0)|(df.B>-1)])"
      ],
      "execution_count": 16,
      "outputs": [
        {
          "output_type": "stream",
          "name": "stdout",
          "text": [
            "Column is:\n",
            "                    A         B         C         D\n",
            "2015-01-01  0.591921 -0.423748  1.052696 -0.111169\n",
            "2015-01-02  1.007132  0.694181 -0.808617 -0.161258\n",
            "2015-01-03 -2.311945 -1.226490 -0.368572  0.076871\n",
            "2015-01-04 -0.379111 -0.637147  2.016481  1.306346\n",
            "2015-01-05  1.138742  1.038527 -1.136004  0.743453\n",
            "\n",
            "Values of the column A is greater than 0 are:\n",
            "                    A         B         C         D\n",
            "2015-01-01  0.591921 -0.423748  1.052696 -0.111169\n",
            "2015-01-02  1.007132  0.694181 -0.808617 -0.161258\n",
            "2015-01-05  1.138742  1.038527 -1.136004  0.743453\n",
            "\n",
            "Values of the columns A is greater than 0 and B greater than -1 are:\n",
            "                    A         B         C         D\n",
            "2015-01-01  0.591921 -0.423748  1.052696 -0.111169\n",
            "2015-01-02  1.007132  0.694181 -0.808617 -0.161258\n",
            "2015-01-05  1.138742  1.038527 -1.136004  0.743453\n",
            "\n",
            "Values of the columns A is greater than 0 or B greater than -1 are:\n",
            "                    A         B         C         D\n",
            "2015-01-01  0.591921 -0.423748  1.052696 -0.111169\n",
            "2015-01-02  1.007132  0.694181 -0.808617 -0.161258\n",
            "2015-01-04 -0.379111 -0.637147  2.016481  1.306346\n",
            "2015-01-05  1.138742  1.038527 -1.136004  0.743453\n"
          ]
        }
      ]
    },
    {
      "cell_type": "markdown",
      "metadata": {
        "id": "AYSi7zkJpMuW"
      },
      "source": [
        "2. Create a DataFrame by passing a random numpy array, with a dateted index and labelled columns and check if,\n",
        " - the values of the table are greater the zero or not.\n",
        " - the value at the position (0,0) is equal to NaN or not."
      ]
    },
    {
      "cell_type": "code",
      "metadata": {
        "id": "4twE3DDys8Jh",
        "colab": {
          "base_uri": "https://localhost:8080/"
        },
        "outputId": "6538d811-42c1-4624-f243-15f378551d0f"
      },
      "source": [
        "#please type your code below this line.\n",
        "\n",
        "import numpy as np\n",
        "import pandas as pd\n",
        "dateted = pd.date_range('20160101',periods=6)\n",
        "df = pd.DataFrame(np.random.randn(6,4),index=dateted,columns=list('ABCD'))\n",
        "print(\"Column is:\\n\",df)\n",
        "print(\"\\nValues of the table are greater the zero or not are:\\n\",df[df>0])\n",
        "print(\"\\nValue at the position (0,0) is equal to NaN or not is:\\n\",df.iloc[[0],[0]]=='NaN')"
      ],
      "execution_count": 17,
      "outputs": [
        {
          "output_type": "stream",
          "name": "stdout",
          "text": [
            "Column is:\n",
            "                    A         B         C         D\n",
            "2016-01-01  0.705936 -0.330573  2.394649 -0.072641\n",
            "2016-01-02 -0.437612 -0.066853  1.041069  2.094763\n",
            "2016-01-03  0.931846  1.549925 -0.265865  0.088272\n",
            "2016-01-04 -1.427791  0.354428 -0.235211  0.297586\n",
            "2016-01-05  0.361616 -0.265688 -0.317315  0.370342\n",
            "2016-01-06 -0.188591 -0.167503 -0.395996 -0.232256\n",
            "\n",
            "Values of the table are greater the zero or not are:\n",
            "                    A         B         C         D\n",
            "2016-01-01  0.705936       NaN  2.394649       NaN\n",
            "2016-01-02       NaN       NaN  1.041069  2.094763\n",
            "2016-01-03  0.931846  1.549925       NaN  0.088272\n",
            "2016-01-04       NaN  0.354428       NaN  0.297586\n",
            "2016-01-05  0.361616       NaN       NaN  0.370342\n",
            "2016-01-06       NaN       NaN       NaN       NaN\n",
            "\n",
            "Value at the position (0,0) is equal to NaN or not is:\n",
            "                 A\n",
            "2016-01-01  False\n"
          ]
        }
      ]
    },
    {
      "cell_type": "markdown",
      "metadata": {
        "id": "g34KBajUtm0a"
      },
      "source": [
        "3. Create a DataFrame by passing a random numpy array, with a dateted index and labelled columns and\n",
        " - reindex the index with even dates.\n",
        " - create a column with values NaN.\n",
        " - make the values of the first two index of the newly created column as 1."
      ]
    },
    {
      "cell_type": "code",
      "metadata": {
        "id": "y0doeO6dxvIc",
        "colab": {
          "base_uri": "https://localhost:8080/"
        },
        "outputId": "546d2d5d-1d63-43fc-c0a3-c29c9681fda1"
      },
      "source": [
        "#please type your answer below this line.\n",
        "\n",
        "import numpy as np\n",
        "import pandas as pd\n",
        "dateted = pd.date_range('20170101',periods=7)\n",
        "df = pd.DataFrame(np.random.randn(7,4),index=dateted,columns=list('ABCD'))\n",
        "print(\"Column is:\\n\",df)\n",
        "print(\"\\nReindexed the index with even dates are:\\n\",df.reindex(df.index[1::2]))\n",
        "df[\"E\"]=\"NaN\"\n",
        "print(\"\\nColumn with values NaN are:\\n\",df)\n",
        "df.loc[df.index[0:2],\"E\"]=1\n",
        "print(\"\\nValues of the first two index of the newly created column as 1 is:\\n\",df)"
      ],
      "execution_count": 18,
      "outputs": [
        {
          "output_type": "stream",
          "name": "stdout",
          "text": [
            "Column is:\n",
            "                    A         B         C         D\n",
            "2017-01-01 -1.728755 -0.503313 -0.116495 -0.566154\n",
            "2017-01-02  0.236804 -0.364583  1.325630 -1.912317\n",
            "2017-01-03  0.328633 -0.418627 -0.999948  1.821243\n",
            "2017-01-04  1.699109 -0.434047 -0.671602  0.572720\n",
            "2017-01-05 -0.767123 -1.610847  1.808739  0.686948\n",
            "2017-01-06 -0.565352  0.837115  0.280881 -0.882270\n",
            "2017-01-07 -1.427817  0.007055 -0.633675  0.553355\n",
            "\n",
            "Reindexed the index with even dates are:\n",
            "                    A         B         C         D\n",
            "2017-01-02  0.236804 -0.364583  1.325630 -1.912317\n",
            "2017-01-04  1.699109 -0.434047 -0.671602  0.572720\n",
            "2017-01-06 -0.565352  0.837115  0.280881 -0.882270\n",
            "\n",
            "Column with values NaN are:\n",
            "                    A         B         C         D    E\n",
            "2017-01-01 -1.728755 -0.503313 -0.116495 -0.566154  NaN\n",
            "2017-01-02  0.236804 -0.364583  1.325630 -1.912317  NaN\n",
            "2017-01-03  0.328633 -0.418627 -0.999948  1.821243  NaN\n",
            "2017-01-04  1.699109 -0.434047 -0.671602  0.572720  NaN\n",
            "2017-01-05 -0.767123 -1.610847  1.808739  0.686948  NaN\n",
            "2017-01-06 -0.565352  0.837115  0.280881 -0.882270  NaN\n",
            "2017-01-07 -1.427817  0.007055 -0.633675  0.553355  NaN\n",
            "\n",
            "Values of the first two index of the newly created column as 1 is:\n",
            "                    A         B         C         D    E\n",
            "2017-01-01 -1.728755 -0.503313 -0.116495 -0.566154    1\n",
            "2017-01-02  0.236804 -0.364583  1.325630 -1.912317    1\n",
            "2017-01-03  0.328633 -0.418627 -0.999948  1.821243  NaN\n",
            "2017-01-04  1.699109 -0.434047 -0.671602  0.572720  NaN\n",
            "2017-01-05 -0.767123 -1.610847  1.808739  0.686948  NaN\n",
            "2017-01-06 -0.565352  0.837115  0.280881 -0.882270  NaN\n",
            "2017-01-07 -1.427817  0.007055 -0.633675  0.553355  NaN\n"
          ]
        }
      ]
    }
  ]
}