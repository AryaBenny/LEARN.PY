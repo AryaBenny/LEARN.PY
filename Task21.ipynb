{
  "nbformat": 4,
  "nbformat_minor": 0,
  "metadata": {
    "colab": {
      "name": "Task21.ipynb",
      "provenance": [],
      "collapsed_sections": [],
      "authorship_tag": "ABX9TyM3MPmW8bZDEg2YP8SnNYD7",
      "include_colab_link": true
    },
    "kernelspec": {
      "name": "python3",
      "display_name": "Python 3"
    },
    "language_info": {
      "name": "python"
    }
  },
  "cells": [
    {
      "cell_type": "markdown",
      "metadata": {
        "id": "view-in-github",
        "colab_type": "text"
      },
      "source": [
        "<a href=\"https://colab.research.google.com/github/AryaBenny/LEARN.PY/blob/main/Task21.ipynb\" target=\"_parent\"><img src=\"https://colab.research.google.com/assets/colab-badge.svg\" alt=\"Open In Colab\"/></a>"
      ]
    },
    {
      "cell_type": "markdown",
      "metadata": {
        "id": "wL9BKrlK0nN2"
      },
      "source": [
        "1. Using the dataset given below,\n",
        " - Group the given dataset by A and find the sum of the groups.\n",
        " - Find the 3 least elements from the column D.\n",
        " - Find the 3 largest elements from the Column D which belongs to the group 'bar'."
      ]
    },
    {
      "cell_type": "code",
      "metadata": {
        "colab": {
          "base_uri": "https://localhost:8080/"
        },
        "id": "olB0zIrRlBmI",
        "outputId": "f0e24c5d-7333-4e7e-91bd-3f1a2abe1fcb"
      },
      "source": [
        "import pandas as pd\n",
        "import numpy as np\n",
        "df = pd.DataFrame({'A' : ['foo', 'bar', 'foo', 'bar',\n",
        "                          'foo', 'bar', 'foo', 'foo'],\n",
        "                   'B' : ['one', 'one', 'two', 'three',\n",
        "                          'two', 'two', 'one', 'three'],\n",
        "                   'C' : np.random.randn(8),\n",
        "                   'D' : np.random.randn(8)})\n",
        "df\n",
        "#please type your code below this line.\n",
        "print(\"Dataset is:\\n\",df)\n",
        "print(\"\\nGrouped the given dataset by A and found the sum of the groups are:\\n\",df.groupby(['A']).sum())\n",
        "print(\"\\nFound the 3 least elements from the column D are:\\n\",df.nsmallest(3,['D']))\n",
        "print(\"\\nFound the 3 largest elements from the column D which belongs to the group 'bar' are:\\n\",df.nlargest(3,['D'])) #group['D'].get_group('bar').nlargest(3)"
      ],
      "execution_count": 61,
      "outputs": [
        {
          "output_type": "stream",
          "name": "stdout",
          "text": [
            "Dataset is:\n",
            "      A      B         C         D\n",
            "0  foo    one  0.995248 -0.856005\n",
            "1  bar    one -0.417956  0.838622\n",
            "2  foo    two -0.776431 -0.689964\n",
            "3  bar  three  0.586013  1.869229\n",
            "4  foo    two -1.066269  0.003094\n",
            "5  bar    two -1.354965  1.171164\n",
            "6  foo    one -0.311895 -0.659030\n",
            "7  foo  three -0.466100 -1.999751\n",
            "\n",
            "Grouped the given dataset by A and found the sum of the groups are:\n",
            "             C         D\n",
            "A                      \n",
            "bar -1.186908  3.879016\n",
            "foo -1.625448 -4.201656\n",
            "\n",
            "Found the 3 least elements from the column D are:\n",
            "      A      B         C         D\n",
            "7  foo  three -0.466100 -1.999751\n",
            "0  foo    one  0.995248 -0.856005\n",
            "2  foo    two -0.776431 -0.689964\n",
            "\n",
            "Found the 3 largest elements from the column D which belongs to the group 'bar' are:\n",
            "      A      B         C         D\n",
            "3  bar  three  0.586013  1.869229\n",
            "5  bar    two -1.354965  1.171164\n",
            "1  bar    one -0.417956  0.838622\n"
          ]
        }
      ]
    },
    {
      "cell_type": "markdown",
      "metadata": {
        "id": "cNTF3xVw6FRN"
      },
      "source": [
        "2. Using the dataset given below,\n",
        " - convert the dataset into a csv file.\n",
        " - read the csv file just saved.\n",
        " - convert the dataset into an excel file.\n",
        " - read the excel file just saved."
      ]
    },
    {
      "cell_type": "code",
      "metadata": {
        "colab": {
          "base_uri": "https://localhost:8080/"
        },
        "id": "ULAa1-Iw8Ok2",
        "outputId": "d67f6833-5e30-41be-9c21-826f951b7e5b"
      },
      "source": [
        "import pandas as pd\n",
        "import numpy as np\n",
        "df = pd.DataFrame({'A' : ['foo', 'bar', 'foo', 'bar',\n",
        "                          'foo', 'bar', 'foo', 'foo'],\n",
        "                   'B' : ['one', 'one', 'two', 'three',\n",
        "                          'two', 'two', 'one', 'three'],\n",
        "                   'C' : np.random.randn(8),\n",
        "                   'D' : np.random.randn(8)})\n",
        "#please type your code below this line.\n",
        "print(\"Dataset is:\\n\",df)\n",
        "print(\"\\nAfter converted the dataset into a csv file is:\\n\",df.to_csv('csvfile.csv'))\n",
        "print(\"\\nAfter read the csv file just saved is:\\n\",pd.read_csv('csvfile.csv'))\n",
        "print(\"\\nAfter converted the dataset into an excel file is:\\n\",df.to_excel('excelfile.xlsx'))\n",
        "print(\"\\nAfter read the excel file just saved is:\\n\",pd.read_excel('excelfile.xlsx'))"
      ],
      "execution_count": 62,
      "outputs": [
        {
          "output_type": "stream",
          "name": "stdout",
          "text": [
            "Dataset is:\n",
            "      A      B         C         D\n",
            "0  foo    one -1.163409 -0.151195\n",
            "1  bar    one -0.674975 -1.150020\n",
            "2  foo    two  0.820689  1.812230\n",
            "3  bar  three -2.421997  0.023177\n",
            "4  foo    two -0.186732 -1.126239\n",
            "5  bar    two -1.130968 -0.759171\n",
            "6  foo    one  0.719378 -1.567373\n",
            "7  foo  three  0.811777  1.669928\n",
            "\n",
            "After converted the dataset into a csv file is:\n",
            " None\n",
            "\n",
            "After read the csv file just saved is:\n",
            "    Unnamed: 0    A      B         C         D\n",
            "0           0  foo    one -1.163409 -0.151195\n",
            "1           1  bar    one -0.674975 -1.150020\n",
            "2           2  foo    two  0.820689  1.812230\n",
            "3           3  bar  three -2.421997  0.023177\n",
            "4           4  foo    two -0.186732 -1.126239\n",
            "5           5  bar    two -1.130968 -0.759171\n",
            "6           6  foo    one  0.719378 -1.567373\n",
            "7           7  foo  three  0.811777  1.669928\n",
            "\n",
            "After converted the dataset into an excel file is:\n",
            " None\n",
            "\n",
            "After read the excel file just saved is:\n",
            "    Unnamed: 0    A      B         C         D\n",
            "0           0  foo    one -1.163409 -0.151195\n",
            "1           1  bar    one -0.674975 -1.150020\n",
            "2           2  foo    two  0.820689  1.812230\n",
            "3           3  bar  three -2.421997  0.023177\n",
            "4           4  foo    two -0.186732 -1.126239\n",
            "5           5  bar    two -1.130968 -0.759171\n",
            "6           6  foo    one  0.719378 -1.567373\n",
            "7           7  foo  three  0.811777  1.669928\n"
          ]
        }
      ]
    }
  ]
}