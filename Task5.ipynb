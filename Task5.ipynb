{
  "nbformat": 4,
  "nbformat_minor": 0,
  "metadata": {
    "colab": {
      "name": "Task5.ipynb",
      "provenance": [],
      "authorship_tag": "ABX9TyMYljN2ZCkp2bhcoJjP7d8d",
      "include_colab_link": true
    },
    "kernelspec": {
      "name": "python3",
      "display_name": "Python 3"
    },
    "language_info": {
      "name": "python"
    }
  },
  "cells": [
    {
      "cell_type": "markdown",
      "metadata": {
        "id": "view-in-github",
        "colab_type": "text"
      },
      "source": [
        "<a href=\"https://colab.research.google.com/github/AryaBenny/LEARN.PY/blob/main/Task5.ipynb\" target=\"_parent\"><img src=\"https://colab.research.google.com/assets/colab-badge.svg\" alt=\"Open In Colab\"/></a>"
      ]
    },
    {
      "cell_type": "markdown",
      "metadata": {
        "id": "xr6FqSM0cGpU"
      },
      "source": [
        "1.Given a list l = [23, 45, 25, 78, 90, 45, 22, 56, 99, 12, 9, 75, 32]\n",
        "\n",
        "Write a single line program to display.\n",
        "\n",
        "a) elements at even index in the list.\n",
        "\n",
        "b) remove the 3 middle elements (45, 22 and 56)"
      ]
    },
    {
      "cell_type": "code",
      "metadata": {
        "id": "rWPyLGtPbx_y",
        "colab": {
          "base_uri": "https://localhost:8080/"
        },
        "outputId": "aca47e75-af43-4c68-d5ff-13241832e9a5"
      },
      "source": [
        "#please write the code below this line\n",
        "\n",
        "l = [23, 45, 25, 78, 90, 45, 22, 56, 99, 12, 9, 75, 32]\n",
        "evens = l[0::2]\n",
        "print(evens)\n",
        "del l[5:8]\n",
        "print(l)"
      ],
      "execution_count": null,
      "outputs": [
        {
          "output_type": "stream",
          "text": [
            "[23, 25, 90, 22, 99, 9, 32]\n",
            "[23, 45, 25, 78, 90, 99, 12, 9, 75, 32]\n"
          ],
          "name": "stdout"
        }
      ]
    },
    {
      "cell_type": "markdown",
      "metadata": {
        "id": "chsFuJnaebBi"
      },
      "source": [
        "2.Given a list lowerCase = ['a', 'e', 'i', 'o', 'u'] Create a new list upperCase using list comprehension and copy the content of the lowerCase list, but in uppercase (capital letters). (upperCase should be ['A', 'E', 'I', 'O', 'U'])"
      ]
    },
    {
      "cell_type": "code",
      "metadata": {
        "id": "49uN2PLZecmb",
        "colab": {
          "base_uri": "https://localhost:8080/"
        },
        "outputId": "fcb8931d-321b-465b-b984-a57561ab0e9b"
      },
      "source": [
        "#please write the code below this line\n",
        "\n",
        "[lowerCase.upper() for lowerCase in ['a','e','i','o','u']]"
      ],
      "execution_count": 36,
      "outputs": [
        {
          "output_type": "execute_result",
          "data": {
            "text/plain": [
              "['A', 'E', 'I', 'O', 'U']"
            ]
          },
          "metadata": {
            "tags": []
          },
          "execution_count": 36
        }
      ]
    },
    {
      "cell_type": "markdown",
      "metadata": {
        "id": "hjT0Nm6wek1J"
      },
      "source": [
        "3.Given a tuple fruits = (\"banana\", \"cherry\", \"apple\", \"grapes\") Create 3 variables yellow, red and green and assign them with fruits of their respective color. (yellow=\"banana\", red=[\"cherry\", \"apple\"], green=\"grapes\" (hint- Use unpacking))"
      ]
    },
    {
      "cell_type": "code",
      "metadata": {
        "id": "uLtdXD88elrE",
        "colab": {
          "base_uri": "https://localhost:8080/"
        },
        "outputId": "df7fddd5-c1f3-4d7b-8cf1-0bc2e94db256"
      },
      "source": [
        "#please write the code below this line\n",
        "\n",
        "fruits = (\"banana\", \"cherry\", \"apple\", \"grapes\")\n",
        "(yellow, *red, green) = fruits\n",
        "print(yellow)\n",
        "print(red)\n",
        "print(green)"
      ],
      "execution_count": null,
      "outputs": [
        {
          "output_type": "stream",
          "text": [
            "banana\n",
            "['cherry', 'apple']\n",
            "grapes\n"
          ],
          "name": "stdout"
        }
      ]
    }
  ]
}