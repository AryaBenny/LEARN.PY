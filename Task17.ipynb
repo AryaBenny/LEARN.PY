{
  "nbformat": 4,
  "nbformat_minor": 0,
  "metadata": {
    "colab": {
      "name": "Task17.ipynb",
      "provenance": [],
      "authorship_tag": "ABX9TyNzx6HqR5cpZs0AWkVOyk65",
      "include_colab_link": true
    },
    "kernelspec": {
      "name": "python3",
      "display_name": "Python 3"
    },
    "language_info": {
      "name": "python"
    }
  },
  "cells": [
    {
      "cell_type": "markdown",
      "metadata": {
        "id": "view-in-github",
        "colab_type": "text"
      },
      "source": [
        "<a href=\"https://colab.research.google.com/github/AryaBenny/LEARN.PY/blob/main/Task17.ipynb\" target=\"_parent\"><img src=\"https://colab.research.google.com/assets/colab-badge.svg\" alt=\"Open In Colab\"/></a>"
      ]
    },
    {
      "cell_type": "markdown",
      "metadata": {
        "id": "WZ_E9gA0jqeD"
      },
      "source": [
        "1. Create a DataFrame by passing a random numpy array with a datetie index and labelled columns and display its,\n",
        " - Head\n",
        " - Tail\n",
        " - Index\n",
        " - Columns\n",
        " - Values\n",
        " - statistics"
      ]
    },
    {
      "cell_type": "code",
      "metadata": {
        "id": "A55pDnzBiu4_",
        "colab": {
          "base_uri": "https://localhost:8080/"
        },
        "outputId": "9a83dada-cff8-4ffd-816f-dd6b7fac02af"
      },
      "source": [
        "#please type your answer below this line.\n",
        "\n",
        "import numpy as np\n",
        "import pandas as pd\n",
        "datetie = pd.date_range('20190701',periods=7)\n",
        "df = pd.DataFrame(np.random.randn(7,4),index=datetie,columns=list('ABCD'))\n",
        "print(\"Head is:\\n\",df.head())\n",
        "print(\"\\nTail is:\\n\",df.tail())\n",
        "print(\"\\nIndex is:\\n\",df.index)\n",
        "print(\"\\nColumns is:\\n\",df.columns)\n",
        "print(\"\\nValues is:\\n\",df.values)\n",
        "print(\"\\nStatistics is:\\n\",df.describe())"
      ],
      "execution_count": 32,
      "outputs": [
        {
          "output_type": "stream",
          "text": [
            "Head is:\n",
            "                    A         B         C         D\n",
            "2019-07-01 -1.510221  0.818034 -1.414396  0.155719\n",
            "2019-07-02  0.174231 -0.171192  0.590561  1.073295\n",
            "2019-07-03  1.275809  0.500763  0.171185  0.379149\n",
            "2019-07-04  0.760234 -2.171398 -1.926344 -1.790738\n",
            "2019-07-05 -1.627712 -1.172932  1.082011 -0.468024\n",
            "\n",
            "Tail is:\n",
            "                    A         B         C         D\n",
            "2019-07-03  1.275809  0.500763  0.171185  0.379149\n",
            "2019-07-04  0.760234 -2.171398 -1.926344 -1.790738\n",
            "2019-07-05 -1.627712 -1.172932  1.082011 -0.468024\n",
            "2019-07-06 -0.536290 -2.027894  0.213796 -1.775575\n",
            "2019-07-07  0.160959  0.230543 -0.393750  1.061928\n",
            "\n",
            "Index is:\n",
            " DatetimeIndex(['2019-07-01', '2019-07-02', '2019-07-03', '2019-07-04',\n",
            "               '2019-07-05', '2019-07-06', '2019-07-07'],\n",
            "              dtype='datetime64[ns]', freq='D')\n",
            "\n",
            "Columns is:\n",
            " Index(['A', 'B', 'C', 'D'], dtype='object')\n",
            "\n",
            "Values is:\n",
            " [[-1.51022097  0.81803362 -1.4143956   0.15571948]\n",
            " [ 0.17423064 -0.17119179  0.59056068  1.07329503]\n",
            " [ 1.27580857  0.50076326  0.17118505  0.37914854]\n",
            " [ 0.76023367 -2.17139796 -1.92634375 -1.7907383 ]\n",
            " [-1.62771243 -1.17293206  1.08201138 -0.46802385]\n",
            " [-0.53628967 -2.02789356  0.2137958  -1.77557497]\n",
            " [ 0.1609586   0.23054338 -0.39375023  1.06192756]]\n",
            "\n",
            "Statistics is:\n",
            "               A         B         C         D\n",
            "count  7.000000  7.000000  7.000000  7.000000\n",
            "mean  -0.186142 -0.570582 -0.239562 -0.194892\n",
            "std    1.098270  1.219736  1.084677  1.208320\n",
            "min   -1.627712 -2.171398 -1.926344 -1.790738\n",
            "25%   -1.023255 -1.600413 -0.904073 -1.121799\n",
            "50%    0.160959 -0.171192  0.171185  0.155719\n",
            "75%    0.467232  0.365653  0.402178  0.720538\n",
            "max    1.275809  0.818034  1.082011  1.073295\n"
          ],
          "name": "stdout"
        }
      ]
    },
    {
      "cell_type": "markdown",
      "metadata": {
        "id": "4ABZSyQAnq4a"
      },
      "source": [
        "2. Use the above table and,\n",
        " - find transpose of your data.\n",
        " - sort the index in the descending order of the date."
      ]
    },
    {
      "cell_type": "code",
      "metadata": {
        "id": "E0dkUwSMpCS1",
        "colab": {
          "base_uri": "https://localhost:8080/"
        },
        "outputId": "b7e4e6ed-ae18-49b3-a0b3-539e97d483a7"
      },
      "source": [
        "#please provide your answer below this line.\n",
        "\n",
        "print(\"Transpose is:\\n\",df.transpose())\n",
        "print(\"\\nSorted index in the descending order is:\\n\",df.sort_index(ascending=False))"
      ],
      "execution_count": 33,
      "outputs": [
        {
          "output_type": "stream",
          "text": [
            "Transpose is:\n",
            "    2019-07-01  2019-07-02  2019-07-03  ...  2019-07-05  2019-07-06  2019-07-07\n",
            "A   -1.510221    0.174231    1.275809  ...   -1.627712   -0.536290    0.160959\n",
            "B    0.818034   -0.171192    0.500763  ...   -1.172932   -2.027894    0.230543\n",
            "C   -1.414396    0.590561    0.171185  ...    1.082011    0.213796   -0.393750\n",
            "D    0.155719    1.073295    0.379149  ...   -0.468024   -1.775575    1.061928\n",
            "\n",
            "[4 rows x 7 columns]\n",
            "\n",
            "Sorted index in the descending order is:\n",
            "                    A         B         C         D\n",
            "2019-07-07  0.160959  0.230543 -0.393750  1.061928\n",
            "2019-07-06 -0.536290 -2.027894  0.213796 -1.775575\n",
            "2019-07-05 -1.627712 -1.172932  1.082011 -0.468024\n",
            "2019-07-04  0.760234 -2.171398 -1.926344 -1.790738\n",
            "2019-07-03  1.275809  0.500763  0.171185  0.379149\n",
            "2019-07-02  0.174231 -0.171192  0.590561  1.073295\n",
            "2019-07-01 -1.510221  0.818034 -1.414396  0.155719\n"
          ],
          "name": "stdout"
        }
      ]
    }
  ]
}