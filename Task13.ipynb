{
  "nbformat": 4,
  "nbformat_minor": 0,
  "metadata": {
    "colab": {
      "name": "Task13.ipynb",
      "provenance": [],
      "authorship_tag": "ABX9TyNHy0J5qjHfsWZ1wX8rnDRr",
      "include_colab_link": true
    },
    "kernelspec": {
      "name": "python3",
      "display_name": "Python 3"
    },
    "language_info": {
      "name": "python"
    }
  },
  "cells": [
    {
      "cell_type": "markdown",
      "metadata": {
        "id": "view-in-github",
        "colab_type": "text"
      },
      "source": [
        "<a href=\"https://colab.research.google.com/github/AryaBenny/LEARN.PY/blob/main/Task13.ipynb\" target=\"_parent\"><img src=\"https://colab.research.google.com/assets/colab-badge.svg\" alt=\"Open In Colab\"/></a>"
      ]
    },
    {
      "cell_type": "markdown",
      "metadata": {
        "id": "7YVTYoebkX81"
      },
      "source": [
        "1) Create a 3x3 array values ranging from 0-8. Find the sum of the elements in this array."
      ]
    },
    {
      "cell_type": "code",
      "metadata": {
        "id": "Z1tl6EUVjhi7",
        "colab": {
          "base_uri": "https://localhost:8080/"
        },
        "outputId": "b48bfa8a-f360-466c-849b-5ec857c6677b"
      },
      "source": [
        "#please enter your code below this line.\n",
        "\n",
        "import numpy as np\n",
        "a = np.arange(0,9).reshape(3,3)\n",
        "print(\"Array is:\\n\",a)\n",
        "print(\"\\nSum of the elements in the array is:\\n\",a.sum())"
      ],
      "execution_count": 4,
      "outputs": [
        {
          "output_type": "stream",
          "text": [
            "Array is:\n",
            " [[0 1 2]\n",
            " [3 4 5]\n",
            " [6 7 8]]\n",
            "\n",
            "Sum of the elements in the array is:\n",
            " 36\n"
          ],
          "name": "stdout"
        }
      ]
    },
    {
      "cell_type": "markdown",
      "metadata": {
        "id": "qGjJa0JVniaV"
      },
      "source": [
        "2) Create a 3x3 array values ranging from 0-8. Find the row sum and column sum of this array."
      ]
    },
    {
      "cell_type": "code",
      "metadata": {
        "id": "Suxx0Rz6mUMh",
        "colab": {
          "base_uri": "https://localhost:8080/"
        },
        "outputId": "cc637954-d109-495d-fd7e-d8af5cb3b6a5"
      },
      "source": [
        "#please enter your code below this line.\n",
        "\n",
        "import numpy as np\n",
        "x = np.arange(0,9).reshape(3,3)\n",
        "print(\"Array is:\\n\",x)\n",
        "print(\"\\nRow sum of the array is:\\n\",x.sum(axis=1))\n",
        "print(\"\\nColumn sum of the array is:\\n\",x.sum(axis=0))"
      ],
      "execution_count": 11,
      "outputs": [
        {
          "output_type": "stream",
          "text": [
            "Array is:\n",
            " [[0 1 2]\n",
            " [3 4 5]\n",
            " [6 7 8]]\n",
            "\n",
            "Row sum of the array is:\n",
            " [ 3 12 21]\n",
            "\n",
            "Column sum of the array is:\n",
            " [ 9 12 15]\n"
          ],
          "name": "stdout"
        }
      ]
    },
    {
      "cell_type": "markdown",
      "metadata": {
        "id": "ZP6GFZIjopdz"
      },
      "source": [
        "3. Create a 4x4 array values ranging from 0-15. Now,\n",
        "\n",
        " a) Find the minimum value in the array.\n",
        "\n",
        " b) Find the maximum value in the array.\n",
        "\n",
        " c) Find the mean of the values in the array."
      ]
    },
    {
      "cell_type": "code",
      "metadata": {
        "id": "PyoJ_BjtmeLx",
        "colab": {
          "base_uri": "https://localhost:8080/"
        },
        "outputId": "cd1aea44-9fbf-4524-b6bb-feab51bb750a"
      },
      "source": [
        "#please enter your code below this line.\n",
        "\n",
        "import numpy as np\n",
        "a = np.arange(0,16).reshape(4,4)\n",
        "print(\"Array is:\\n\",a)\n",
        "print(\"\\nMinimum value in the array is:\\n\",a.min())\n",
        "print(\"\\nMaximum value in the array is:\\n\",a.max())\n",
        "print(\"\\nMean of the values in the array is:\\n\",a.mean())"
      ],
      "execution_count": 17,
      "outputs": [
        {
          "output_type": "stream",
          "text": [
            "Array is:\n",
            " [[ 0  1  2  3]\n",
            " [ 4  5  6  7]\n",
            " [ 8  9 10 11]\n",
            " [12 13 14 15]]\n",
            "\n",
            "Minimum value in the array is:\n",
            " 0\n",
            "\n",
            "Maximum value in the array is:\n",
            " 15\n",
            "\n",
            "Mean of the values in the array is:\n",
            " 7.5\n"
          ],
          "name": "stdout"
        }
      ]
    },
    {
      "cell_type": "markdown",
      "metadata": {
        "id": "RJ7cDNr1uHJg"
      },
      "source": [
        "4. Create an 10x10 array values ranging from 0-99. And,\n",
        "\n",
        " a) Print the 7th row.\n",
        "\n",
        " b) Print the rows from 4-8.\n",
        "\n",
        " c) Print the value at the index 5,5.\n",
        "\n",
        " d) Print the 5th column.\n",
        "\n",
        " e) Print the columns from 2-5."
      ]
    },
    {
      "cell_type": "code",
      "metadata": {
        "id": "BmQY2QDGmoBc",
        "colab": {
          "base_uri": "https://localhost:8080/"
        },
        "outputId": "429339b6-2026-4891-d11b-55cc23f5733f"
      },
      "source": [
        "#please enter your code below this line.\n",
        "\n",
        "import numpy as np\n",
        "x = np.arange(0,100).reshape(10,10)\n",
        "print(\"Array is:\\n\",x)\n",
        "print(\"\\n7th row is:\\n\",x[7,:])\n",
        "print(\"\\nRows from 4-8 is:\\n\",x[4:8,:])\n",
        "print(\"\\nValue at the index 5,5 is:\\n\",x[5,5])\n",
        "print(\"\\n5th column is:\\n\",x[:,5])\n",
        "print(\"\\ncolumns from 2-5 is:\\n\",x[:,2:5])"
      ],
      "execution_count": 5,
      "outputs": [
        {
          "output_type": "stream",
          "text": [
            "Array is:\n",
            " [[ 0  1  2  3  4  5  6  7  8  9]\n",
            " [10 11 12 13 14 15 16 17 18 19]\n",
            " [20 21 22 23 24 25 26 27 28 29]\n",
            " [30 31 32 33 34 35 36 37 38 39]\n",
            " [40 41 42 43 44 45 46 47 48 49]\n",
            " [50 51 52 53 54 55 56 57 58 59]\n",
            " [60 61 62 63 64 65 66 67 68 69]\n",
            " [70 71 72 73 74 75 76 77 78 79]\n",
            " [80 81 82 83 84 85 86 87 88 89]\n",
            " [90 91 92 93 94 95 96 97 98 99]]\n",
            "\n",
            "7th row is:\n",
            " [70 71 72 73 74 75 76 77 78 79]\n",
            "\n",
            "Rows from 4-8 is:\n",
            " [[40 41 42 43 44 45 46 47 48 49]\n",
            " [50 51 52 53 54 55 56 57 58 59]\n",
            " [60 61 62 63 64 65 66 67 68 69]\n",
            " [70 71 72 73 74 75 76 77 78 79]]\n",
            "\n",
            "Value at the index 5,5 is:\n",
            " 55\n",
            "\n",
            "5th column is:\n",
            " [ 5 15 25 35 45 55 65 75 85 95]\n",
            "\n",
            "columns from 2-5 is:\n",
            " [[ 2  3  4]\n",
            " [12 13 14]\n",
            " [22 23 24]\n",
            " [32 33 34]\n",
            " [42 43 44]\n",
            " [52 53 54]\n",
            " [62 63 64]\n",
            " [72 73 74]\n",
            " [82 83 84]\n",
            " [92 93 94]]\n"
          ],
          "name": "stdout"
        }
      ]
    }
  ]
}