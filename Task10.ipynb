{
  "nbformat": 4,
  "nbformat_minor": 0,
  "metadata": {
    "colab": {
      "name": "Task10.ipynb",
      "provenance": [],
      "authorship_tag": "ABX9TyM41WpQ1vZ6AK2yPmP5Viu4",
      "include_colab_link": true
    },
    "kernelspec": {
      "name": "python3",
      "display_name": "Python 3"
    },
    "language_info": {
      "name": "python"
    }
  },
  "cells": [
    {
      "cell_type": "markdown",
      "metadata": {
        "id": "view-in-github",
        "colab_type": "text"
      },
      "source": [
        "<a href=\"https://colab.research.google.com/github/AryaBenny/LEARN.PY/blob/main/Task10.ipynb\" target=\"_parent\"><img src=\"https://colab.research.google.com/assets/colab-badge.svg\" alt=\"Open In Colab\"/></a>"
      ]
    },
    {
      "cell_type": "markdown",
      "metadata": {
        "id": "Fxatq-Alo4r_"
      },
      "source": [
        "1) Generate two 3x3 matrix and find it's dot product and take the transpose of the answer."
      ]
    },
    {
      "cell_type": "code",
      "metadata": {
        "colab": {
          "base_uri": "https://localhost:8080/"
        },
        "id": "SGsdXjIBm9pZ",
        "outputId": "129424c2-2c21-45f3-c9b8-80dfa206af02"
      },
      "source": [
        "#please provide your answer below this line.\n",
        "\n",
        "import numpy as np\n",
        "x = np.arange(2,11).reshape(3,3)\n",
        "y = np.arange(12,21).reshape(3,3)\n",
        "print(\"Matrix X is:\\n\",x)\n",
        "print(\"\\nMatrix Y is:\\n\",y)\n",
        "product = np.dot(x,y)\n",
        "print(\"\\nDot product of the matrices is:\\n\",product)\n",
        "transpose = product.transpose()\n",
        "print(\"\\nTranspose of the product matrix is:\\n\",transpose)"
      ],
      "execution_count": 3,
      "outputs": [
        {
          "output_type": "stream",
          "text": [
            "Matrix X is:\n",
            " [[ 2  3  4]\n",
            " [ 5  6  7]\n",
            " [ 8  9 10]]\n",
            "\n",
            "Matrix Y is:\n",
            " [[12 13 14]\n",
            " [15 16 17]\n",
            " [18 19 20]]\n",
            "\n",
            "Dot product of the matrices is:\n",
            " [[141 150 159]\n",
            " [276 294 312]\n",
            " [411 438 465]]\n",
            "\n",
            "Transpose of the product matrix is:\n",
            " [[141 276 411]\n",
            " [150 294 438]\n",
            " [159 312 465]]\n"
          ],
          "name": "stdout"
        }
      ]
    },
    {
      "cell_type": "markdown",
      "metadata": {
        "id": "dG1LfENdpt0r"
      },
      "source": [
        "2) Create a 3x3 matrix with elements [55,25,15], [30,44,2], [11,45,77]. Now find the determinant of the given matrix."
      ]
    },
    {
      "cell_type": "code",
      "metadata": {
        "colab": {
          "base_uri": "https://localhost:8080/"
        },
        "id": "S2Ch7pqBpuyw",
        "outputId": "d1a6b952-d5d2-4c5b-8178-ec3894e7f485"
      },
      "source": [
        "#please provide your answer below this line.\n",
        "\n",
        "import numpy as np\n",
        "matrix = np.array([[55,25,15],[30,44,2],[11,45,77]])\n",
        "print(\"Matrix is:\\n\",matrix)\n",
        "determinant = np.linalg.det(matrix)\n",
        "print(\"\\nDeterminant of the given matrix is:\\n\",determinant)"
      ],
      "execution_count": 10,
      "outputs": [
        {
          "output_type": "stream",
          "text": [
            "Matrix is:\n",
            " [[55 25 15]\n",
            " [30 44  2]\n",
            " [11 45 77]]\n",
            "\n",
            "Determinant of the given matrix is:\n",
            " 137180.0000000001\n"
          ],
          "name": "stdout"
        }
      ]
    }
  ]
}