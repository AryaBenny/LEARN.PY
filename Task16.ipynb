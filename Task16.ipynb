{
  "nbformat": 4,
  "nbformat_minor": 0,
  "metadata": {
    "colab": {
      "name": "Task16.ipynb",
      "provenance": [],
      "authorship_tag": "ABX9TyMQ8Ejhgezhu5r3I9FlOdyZ",
      "include_colab_link": true
    },
    "kernelspec": {
      "name": "python3",
      "display_name": "Python 3"
    },
    "language_info": {
      "name": "python"
    }
  },
  "cells": [
    {
      "cell_type": "markdown",
      "metadata": {
        "id": "view-in-github",
        "colab_type": "text"
      },
      "source": [
        "<a href=\"https://colab.research.google.com/github/AryaBenny/LEARN.PY/blob/main/Task16.ipynb\" target=\"_parent\"><img src=\"https://colab.research.google.com/assets/colab-badge.svg\" alt=\"Open In Colab\"/></a>"
      ]
    },
    {
      "cell_type": "markdown",
      "metadata": {
        "id": "RyKHGPyyhFEy"
      },
      "source": [
        "1. Given index=[\"India\",\"Pakistan\",\"Bangladesh\",\"Srilanka\",\"china\",\"Nepal\"] and data=[1,3,5,np.nan,6,8]. Create a table with the \"index\" as indices and data as values.\n",
        "\n",
        " Expected output\n",
        "\n",
        "        India         1.0\n",
        "        Pakistan      3.0\n",
        "        Bangladesh    5.0\n",
        "        Srilanka      NaN\n",
        "        China         6.0\n",
        "        Nepal         8.0\n",
        "        Name: myseries, dtype: float64"
      ]
    },
    {
      "cell_type": "code",
      "metadata": {
        "id": "g1WFFF5sgR7G",
        "colab": {
          "base_uri": "https://localhost:8080/"
        },
        "outputId": "306800e7-acc8-49cd-d641-834a418bc935"
      },
      "source": [
        "#please type your answer below this line.\n",
        "\n",
        "import pandas as pd\n",
        "df = pd.Series(index=[\"India\",\"Pakistan\",\"Bangladesh\",\"Srilanka\",\"China\",\"Nepal\"], data=[1,3,5,np.nan,6,8], name='myseries')\n",
        "df"
      ],
      "execution_count": 70,
      "outputs": [
        {
          "output_type": "execute_result",
          "data": {
            "text/plain": [
              "India         1.0\n",
              "Pakistan      3.0\n",
              "Bangladesh    5.0\n",
              "Srilanka      NaN\n",
              "China         6.0\n",
              "Nepal         8.0\n",
              "Name: myseries, dtype: float64"
            ]
          },
          "metadata": {},
          "execution_count": 70
        }
      ]
    },
    {
      "cell_type": "markdown",
      "metadata": {
        "id": "u-mGkoBGmXom"
      },
      "source": [
        "2. Create a data 'dates' starting from 2021-01-01 with range 6, and create a random 6x4 array and a list=('ABCD'), now create a dataframe with 'dates' as index and list as the column and data as the datas of this table.\n",
        "\n",
        " Expected output\n",
        "\n",
        "                         A\t       B           C           D\n",
        "       2021-01-01\t-0.429358\t0.779826\t0.389625\t0.248792\n",
        "       2021-01-02\t-1.044721\t0.272807   -0.370437\t1.177273\n",
        "       2021-01-03\t-0.961394   -0.525376\t0.120843\t0.470060\n",
        "       2021-01-04     1.842266   -0.551049\t0.588390   -0.326937\n",
        "       2021-01-05     0.986198\t0.391301   -0.084837   -0.855573\n",
        "       2021-01-06\t-1.531207\t0.905463   -0.099024\t0.589219"
      ]
    },
    {
      "cell_type": "code",
      "metadata": {
        "id": "mO1kYuYrTIpn",
        "colab": {
          "base_uri": "https://localhost:8080/",
          "height": 237
        },
        "outputId": "57efda1c-f4fb-4c0a-c762-c9fdc76853ac"
      },
      "source": [
        "#please type\n",
        "\n",
        "import numpy as np\n",
        "import pandas as pd\n",
        "dates = pd.date_range('2021-01-01', periods=6)\n",
        "df = pd.DataFrame(np.random.randn(6,4), index=dates, columns=list('ABCD'))\n",
        "df"
      ],
      "execution_count": 69,
      "outputs": [
        {
          "output_type": "execute_result",
          "data": {
            "text/html": [
              "<div>\n",
              "<style scoped>\n",
              "    .dataframe tbody tr th:only-of-type {\n",
              "        vertical-align: middle;\n",
              "    }\n",
              "\n",
              "    .dataframe tbody tr th {\n",
              "        vertical-align: top;\n",
              "    }\n",
              "\n",
              "    .dataframe thead th {\n",
              "        text-align: right;\n",
              "    }\n",
              "</style>\n",
              "<table border=\"1\" class=\"dataframe\">\n",
              "  <thead>\n",
              "    <tr style=\"text-align: right;\">\n",
              "      <th></th>\n",
              "      <th>A</th>\n",
              "      <th>B</th>\n",
              "      <th>C</th>\n",
              "      <th>D</th>\n",
              "    </tr>\n",
              "  </thead>\n",
              "  <tbody>\n",
              "    <tr>\n",
              "      <th>2021-01-01</th>\n",
              "      <td>-0.120675</td>\n",
              "      <td>-0.720100</td>\n",
              "      <td>0.621642</td>\n",
              "      <td>1.702429</td>\n",
              "    </tr>\n",
              "    <tr>\n",
              "      <th>2021-01-02</th>\n",
              "      <td>-0.194636</td>\n",
              "      <td>0.541067</td>\n",
              "      <td>-1.438440</td>\n",
              "      <td>-1.366379</td>\n",
              "    </tr>\n",
              "    <tr>\n",
              "      <th>2021-01-03</th>\n",
              "      <td>-1.265439</td>\n",
              "      <td>-0.407552</td>\n",
              "      <td>0.927667</td>\n",
              "      <td>-1.098298</td>\n",
              "    </tr>\n",
              "    <tr>\n",
              "      <th>2021-01-04</th>\n",
              "      <td>1.558908</td>\n",
              "      <td>2.219490</td>\n",
              "      <td>0.296479</td>\n",
              "      <td>0.075838</td>\n",
              "    </tr>\n",
              "    <tr>\n",
              "      <th>2021-01-05</th>\n",
              "      <td>0.886061</td>\n",
              "      <td>-0.264443</td>\n",
              "      <td>0.802146</td>\n",
              "      <td>0.778177</td>\n",
              "    </tr>\n",
              "    <tr>\n",
              "      <th>2021-01-06</th>\n",
              "      <td>0.655788</td>\n",
              "      <td>1.174988</td>\n",
              "      <td>-0.066719</td>\n",
              "      <td>-0.641045</td>\n",
              "    </tr>\n",
              "  </tbody>\n",
              "</table>\n",
              "</div>"
            ],
            "text/plain": [
              "                   A         B         C         D\n",
              "2021-01-01 -0.120675 -0.720100  0.621642  1.702429\n",
              "2021-01-02 -0.194636  0.541067 -1.438440 -1.366379\n",
              "2021-01-03 -1.265439 -0.407552  0.927667 -1.098298\n",
              "2021-01-04  1.558908  2.219490  0.296479  0.075838\n",
              "2021-01-05  0.886061 -0.264443  0.802146  0.778177\n",
              "2021-01-06  0.655788  1.174988 -0.066719 -0.641045"
            ]
          },
          "metadata": {},
          "execution_count": 69
        }
      ]
    }
  ]
}