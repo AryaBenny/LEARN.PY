{
  "nbformat": 4,
  "nbformat_minor": 0,
  "metadata": {
    "colab": {
      "name": "Task14.ipynb",
      "provenance": [],
      "authorship_tag": "ABX9TyO58qLu03tnWg3Pw49kWYGH",
      "include_colab_link": true
    },
    "kernelspec": {
      "name": "python3",
      "display_name": "Python 3"
    },
    "language_info": {
      "name": "python"
    }
  },
  "cells": [
    {
      "cell_type": "markdown",
      "metadata": {
        "id": "view-in-github",
        "colab_type": "text"
      },
      "source": [
        "<a href=\"https://colab.research.google.com/github/AryaBenny/LEARN.PY/blob/main/Task14.ipynb\" target=\"_parent\"><img src=\"https://colab.research.google.com/assets/colab-badge.svg\" alt=\"Open In Colab\"/></a>"
      ]
    },
    {
      "cell_type": "markdown",
      "metadata": {
        "id": "jLBCqeyYSXPN"
      },
      "source": [
        "1) Create two arrays, one containing elements [1,2], [3,4] and another containing elements [8,18]. Now find the solution for this linear equation."
      ]
    },
    {
      "cell_type": "code",
      "metadata": {
        "colab": {
          "base_uri": "https://localhost:8080/"
        },
        "id": "I4dJBxcsRWwc",
        "outputId": "027c62aa-4d74-41be-ba77-a3337d5fbe63"
      },
      "source": [
        "#please type your answer below this line.\n",
        "\n",
        "import numpy as np\n",
        "a = np.array([[1,2],[3,4]])\n",
        "b = np.array([8,18])\n",
        "print(\"Solution of this linear equation is:\\n\",np.linalg.solve(a,b))"
      ],
      "execution_count": 4,
      "outputs": [
        {
          "output_type": "stream",
          "text": [
            "Solution of this linear equation is:\n",
            " [2. 3.]\n"
          ],
          "name": "stdout"
        }
      ]
    },
    {
      "cell_type": "markdown",
      "metadata": {
        "id": "dp1WAQWqVPZ8"
      },
      "source": [
        "2) Create an array containing elements [2, 3, 4]. Now find the sin, cos, tan values of this array elements."
      ]
    },
    {
      "cell_type": "code",
      "metadata": {
        "colab": {
          "base_uri": "https://localhost:8080/"
        },
        "id": "apiNgKGAUEFd",
        "outputId": "a94649bf-be38-4ded-b75e-83130b2ce7a8"
      },
      "source": [
        "#please type your answer below this line.\n",
        "\n",
        "import numpy as np\n",
        "x = np.array([2, 3, 4])\n",
        "print(\"Sin value of the array is:\\n\",np.sin(x))\n",
        "print(\"\\nCos value of the array is:\\n\",np.cos(x))\n",
        "print(\"\\nTan value of the array is:\\n\",np.tan(x))"
      ],
      "execution_count": 5,
      "outputs": [
        {
          "output_type": "stream",
          "text": [
            "Sin value of the array is:\n",
            " [ 0.90929743  0.14112001 -0.7568025 ]\n",
            "\n",
            "Cos value of the array is:\n",
            " [-0.41614684 -0.9899925  -0.65364362]\n",
            "\n",
            "Tan value of the array is:\n",
            " [-2.18503986 -0.14254654  1.15782128]\n"
          ],
          "name": "stdout"
        }
      ]
    },
    {
      "cell_type": "markdown",
      "metadata": {
        "id": "xQcs3UrUW6wN"
      },
      "source": [
        "3) Given b=[5,6], then find,\n",
        "\n",
        "a) 2sinb b) 2cos3b c) 4tan2b"
      ]
    },
    {
      "cell_type": "code",
      "metadata": {
        "colab": {
          "base_uri": "https://localhost:8080/"
        },
        "id": "-OwOQ_0BUMEZ",
        "outputId": "7263e779-c829-4172-e819-d7cc871fa90d"
      },
      "source": [
        "#please type your answer below this line.\n",
        "\n",
        "import numpy as np\n",
        "b = np.array([5,6])\n",
        "x = np.sin(b)\n",
        "print(\"2sinb is:\\n\",2*x)\n",
        "y = np.cos(3*b)\n",
        "print(\"\\n2cos3b is:\\n\",2*y)\n",
        "z = np.tan(2*b)\n",
        "print(\"\\n4tan2b is:\\n\",4*z)"
      ],
      "execution_count": 2,
      "outputs": [
        {
          "output_type": "stream",
          "text": [
            "2sinb is:\n",
            " [-1.91784855 -0.558831  ]\n",
            "\n",
            "2cos3b is:\n",
            " [-1.51937583  1.32063342]\n",
            "\n",
            "4tan2b is:\n",
            " [ 2.59344331 -2.54343971]\n"
          ],
          "name": "stdout"
        }
      ]
    }
  ]
}