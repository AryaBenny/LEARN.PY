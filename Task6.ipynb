{
  "nbformat": 4,
  "nbformat_minor": 0,
  "metadata": {
    "colab": {
      "name": "Task6.ipynb",
      "provenance": [],
      "collapsed_sections": [],
      "authorship_tag": "ABX9TyPy1HLmpzGGJdyFECQn7GJm",
      "include_colab_link": true
    },
    "kernelspec": {
      "name": "python3",
      "display_name": "Python 3"
    },
    "language_info": {
      "name": "python"
    }
  },
  "cells": [
    {
      "cell_type": "markdown",
      "metadata": {
        "id": "view-in-github",
        "colab_type": "text"
      },
      "source": [
        "<a href=\"https://colab.research.google.com/github/AryaBenny/LEARN.PY/blob/main/Task6.ipynb\" target=\"_parent\"><img src=\"https://colab.research.google.com/assets/colab-badge.svg\" alt=\"Open In Colab\"/></a>"
      ]
    },
    {
      "cell_type": "markdown",
      "metadata": {
        "id": "KJZNAKatQDRt"
      },
      "source": [
        "1. Write a Python program to find those numbers which are divisible by 7 and multiple of 11, between 1000 and 2000 (both included)."
      ]
    },
    {
      "cell_type": "code",
      "metadata": {
        "id": "E-eYsoMxPju9",
        "colab": {
          "base_uri": "https://localhost:8080/"
        },
        "outputId": "01acfc26-e93c-492b-a5ef-4aad10c61c02"
      },
      "source": [
        "#please enter your answer below this line\n",
        "\n",
        "for i in range(1000,2001):\n",
        "  if (i%7==0) and (i%11==0):\n",
        "    print(i)"
      ],
      "execution_count": 7,
      "outputs": [
        {
          "output_type": "stream",
          "text": [
            "1001\n",
            "1078\n",
            "1155\n",
            "1232\n",
            "1309\n",
            "1386\n",
            "1463\n",
            "1540\n",
            "1617\n",
            "1694\n",
            "1771\n",
            "1848\n",
            "1925\n"
          ],
          "name": "stdout"
        }
      ]
    },
    {
      "cell_type": "markdown",
      "metadata": {
        "id": "9U1r_8_Ucmi8"
      },
      "source": [
        "2. Write a program to print this pattern.\n",
        "\n",
        "```\n",
        "    #\n",
        "   ##\n",
        "  ###\n",
        "```\n",
        "\n"
      ]
    },
    {
      "cell_type": "code",
      "metadata": {
        "id": "bI-Ymk7bfkAO",
        "colab": {
          "base_uri": "https://localhost:8080/"
        },
        "outputId": "3fd01c4a-5a2c-449d-fc0d-19c59e30d9b7"
      },
      "source": [
        "#please enter your answer below this line\n",
        "\n",
        "space = 2\n",
        "for i in range(3):\n",
        "  for j in range(space):\n",
        "    print(\" \", end=\"\")\n",
        "  space = space-1\n",
        "  for j in range(i+1):\n",
        "    print(\"#\", end=\"\")\n",
        "  print()"
      ],
      "execution_count": 34,
      "outputs": [
        {
          "output_type": "stream",
          "text": [
            "  #\n",
            " ##\n",
            "###\n"
          ],
          "name": "stdout"
        }
      ]
    },
    {
      "cell_type": "markdown",
      "metadata": {
        "id": "Slbe3n1rftDH"
      },
      "source": [
        "3. list=[apple, orange, apple, banana]. Replace all the apple in the list with grapes using for loop."
      ]
    },
    {
      "cell_type": "code",
      "metadata": {
        "id": "EMm0FN3_fuPw",
        "colab": {
          "base_uri": "https://localhost:8080/"
        },
        "outputId": "ed9c61b4-894f-4739-daf9-ea16443fe994"
      },
      "source": [
        "#please enter your answer below this line\n",
        "\n",
        "list=['apple', 'orange', 'apple', 'banana']\n",
        "list=['grapes' if i=='apple' else i for i in list]\n",
        "print(list)"
      ],
      "execution_count": 6,
      "outputs": [
        {
          "output_type": "stream",
          "text": [
            "['grapes', 'orange', 'grapes', 'banana']\n"
          ],
          "name": "stdout"
        }
      ]
    }
  ]
}