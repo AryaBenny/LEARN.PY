{
  "nbformat": 4,
  "nbformat_minor": 0,
  "metadata": {
    "colab": {
      "name": "Task12.ipynb",
      "provenance": [],
      "authorship_tag": "ABX9TyPubIO0NDfWDM4GJSOoTpCZ",
      "include_colab_link": true
    },
    "kernelspec": {
      "name": "python3",
      "display_name": "Python 3"
    },
    "language_info": {
      "name": "python"
    }
  },
  "cells": [
    {
      "cell_type": "markdown",
      "metadata": {
        "id": "view-in-github",
        "colab_type": "text"
      },
      "source": [
        "<a href=\"https://colab.research.google.com/github/AryaBenny/LEARN.PY/blob/main/Task12.ipynb\" target=\"_parent\"><img src=\"https://colab.research.google.com/assets/colab-badge.svg\" alt=\"Open In Colab\"/></a>"
      ]
    },
    {
      "cell_type": "markdown",
      "metadata": {
        "id": "xwvub_Up01_e"
      },
      "source": [
        "1) Create an 4x4 array with elements ranging from 0-15, and find the trace of the array."
      ]
    },
    {
      "cell_type": "code",
      "metadata": {
        "colab": {
          "base_uri": "https://localhost:8080/"
        },
        "id": "tWmLRyJTz-IL",
        "outputId": "a1cc7d36-8feb-48e7-a35e-8db355f7313d"
      },
      "source": [
        "#please type your answer below this line.\n",
        "\n",
        "import numpy as np\n",
        "array = np.arange(0,16).reshape(4,4)\n",
        "print(\"Array is:\\n\",array)\n",
        "trace = np.trace(array)\n",
        "print(\"\\nTrace of the array is:\\n\",trace)"
      ],
      "execution_count": 2,
      "outputs": [
        {
          "output_type": "stream",
          "text": [
            "Array is:\n",
            " [[ 0  1  2  3]\n",
            " [ 4  5  6  7]\n",
            " [ 8  9 10 11]\n",
            " [12 13 14 15]]\n",
            "\n",
            "Trace of the array is:\n",
            " 30\n"
          ],
          "name": "stdout"
        }
      ]
    },
    {
      "cell_type": "markdown",
      "metadata": {
        "id": "0hGqrw6P2N4_"
      },
      "source": [
        "2) Create a matrix with elements [6,1,1],[4,-2,5],[2,8,7]. Now find the inverse this matrix."
      ]
    },
    {
      "cell_type": "code",
      "metadata": {
        "colab": {
          "base_uri": "https://localhost:8080/"
        },
        "id": "QSYMIKsg2Pzm",
        "outputId": "a44228d0-770a-4c6d-9ff7-7771294709f4"
      },
      "source": [
        "#please type your answer below this line.\n",
        "\n",
        "import numpy as np\n",
        "matrix = np.array([[6,1,1],[4,-2,5],[2,8,7]])\n",
        "print(\"Matrix is:\\n\",matrix)\n",
        "inverse = np.linalg.inv(matrix)\n",
        "print(\"\\nInverse of the matrix is:\\n\",inverse)"
      ],
      "execution_count": 2,
      "outputs": [
        {
          "output_type": "stream",
          "text": [
            "Matrix is:\n",
            " [[ 6  1  1]\n",
            " [ 4 -2  5]\n",
            " [ 2  8  7]]\n",
            "\n",
            "Inverse of the matrix is:\n",
            " [[ 0.17647059 -0.00326797 -0.02287582]\n",
            " [ 0.05882353 -0.13071895  0.08496732]\n",
            " [-0.11764706  0.1503268   0.05228758]]\n"
          ],
          "name": "stdout"
        }
      ]
    },
    {
      "cell_type": "markdown",
      "metadata": {
        "id": "KYDdA4RL2iRi"
      },
      "source": [
        "3) Create an 3x3 array with elements ranging from 0-8, and find the norm this array."
      ]
    },
    {
      "cell_type": "code",
      "metadata": {
        "colab": {
          "base_uri": "https://localhost:8080/"
        },
        "id": "yRUCCP4v2jB8",
        "outputId": "87d24952-0a6e-455f-a4df-03e0dde36689"
      },
      "source": [
        "#please type your answer below this line.\n",
        "\n",
        "import numpy as np\n",
        "array = np.arange(0,9).reshape(3,3)\n",
        "print(\"Array is:\\n\",array)\n",
        "norm = np.linalg.norm(array)\n",
        "print(\"\\nNorm of the array is:\\n\",norm)"
      ],
      "execution_count": 6,
      "outputs": [
        {
          "output_type": "stream",
          "text": [
            "Array is:\n",
            " [[0 1 2]\n",
            " [3 4 5]\n",
            " [6 7 8]]\n",
            "\n",
            "Norm of the array is:\n",
            " 14.2828568570857\n"
          ],
          "name": "stdout"
        }
      ]
    },
    {
      "cell_type": "markdown",
      "metadata": {
        "id": "TqBQJyTF2qto"
      },
      "source": [
        "4) Create a 4x4 array whose value ranging from 0-15, and find the eigenvalues and eigenvectors of this array."
      ]
    },
    {
      "cell_type": "code",
      "metadata": {
        "colab": {
          "base_uri": "https://localhost:8080/"
        },
        "id": "u_mDt_8C2rhc",
        "outputId": "33fa66ae-c3e5-430d-99e0-6d3f2c91d235"
      },
      "source": [
        "#please type your answer below this line.\n",
        "\n",
        "import numpy as np\n",
        "array = np.arange(0,16).reshape(4,4)\n",
        "print(\"Array is:\\n\",array)\n",
        "eigen = np.linalg.eig(array)\n",
        "print(\"\\nEigenvalues and eigenvectors of the array is:\\n\",eigen)"
      ],
      "execution_count": 8,
      "outputs": [
        {
          "output_type": "stream",
          "text": [
            "Array is:\n",
            " [[ 0  1  2  3]\n",
            " [ 4  5  6  7]\n",
            " [ 8  9 10 11]\n",
            " [12 13 14 15]]\n",
            "\n",
            "Eigenvalues and eigenvectors of the array is:\n",
            " (array([ 3.24642492e+01, -2.46424920e+00,  2.55670932e-15, -1.93389056e-16]), array([[-0.11417645,  0.7327781 , -0.54471271,  0.09683789],\n",
            "       [-0.3300046 ,  0.28974835,  0.76902356,  0.27269982],\n",
            "       [-0.54583275, -0.15328139,  0.09609099, -0.8359133 ],\n",
            "       [-0.76166089, -0.59631113, -0.32040185,  0.46637559]]))\n"
          ],
          "name": "stdout"
        }
      ]
    }
  ]
}