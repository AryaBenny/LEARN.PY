{
  "nbformat": 4,
  "nbformat_minor": 0,
  "metadata": {
    "colab": {
      "name": "Task9.ipynb",
      "provenance": [],
      "authorship_tag": "ABX9TyNqYiItJtcdW7IBZkTu+vu3",
      "include_colab_link": true
    },
    "kernelspec": {
      "name": "python3",
      "display_name": "Python 3"
    },
    "language_info": {
      "name": "python"
    }
  },
  "cells": [
    {
      "cell_type": "markdown",
      "metadata": {
        "id": "view-in-github",
        "colab_type": "text"
      },
      "source": [
        "<a href=\"https://colab.research.google.com/github/AryaBenny/LEARN.PY/blob/main/Task9.ipynb\" target=\"_parent\"><img src=\"https://colab.research.google.com/assets/colab-badge.svg\" alt=\"Open In Colab\"/></a>"
      ]
    },
    {
      "cell_type": "markdown",
      "metadata": {
        "id": "kuiBOItUbUYu"
      },
      "source": [
        "1. Create an 4x4 array containing the values ranging from 0-15 (use arange function). Then,\n",
        "\n",
        "  a) split it equally along horizontal.\n",
        "\n",
        "  b) split it as 4 parts vertically."
      ]
    },
    {
      "cell_type": "code",
      "metadata": {
        "id": "b0Qd7Cemao9-",
        "colab": {
          "base_uri": "https://localhost:8080/"
        },
        "outputId": "e0bb951c-dd84-4154-bd9f-508ebb585f82"
      },
      "source": [
        "#please provide your answer below this line.\n",
        "\n",
        "import numpy as np\n",
        "x = np.arange(0,16).reshape(4,4)\n",
        "print(\"Array:\\n\",x)\n",
        "print(\"\\nEqually splitted array along horizontally:\\n\",np.hsplit(x,2))\n",
        "print(\"\\nArray split along vertically:\\n\",np.vsplit(x,4))"
      ],
      "execution_count": null,
      "outputs": [
        {
          "output_type": "stream",
          "text": [
            "Array:\n",
            " [[ 0  1  2  3]\n",
            " [ 4  5  6  7]\n",
            " [ 8  9 10 11]\n",
            " [12 13 14 15]]\n",
            "\n",
            "Equally splitted array along horizontally:\n",
            " [array([[ 0,  1],\n",
            "       [ 4,  5],\n",
            "       [ 8,  9],\n",
            "       [12, 13]]), array([[ 2,  3],\n",
            "       [ 6,  7],\n",
            "       [10, 11],\n",
            "       [14, 15]])]\n",
            "\n",
            "Array split along vertically:\n",
            " [array([[0, 1, 2, 3]]), array([[4, 5, 6, 7]]), array([[ 8,  9, 10, 11]]), array([[12, 13, 14, 15]])]\n"
          ],
          "name": "stdout"
        }
      ]
    },
    {
      "cell_type": "markdown",
      "metadata": {
        "id": "iH-u65Fec6Zy"
      },
      "source": [
        "2. Create a 3x3 matrix using random module and then,\n",
        "\n",
        "  a) Find the ceil of the matrix.\n",
        "\n",
        "  b) Find the floor of the matrix."
      ]
    },
    {
      "cell_type": "code",
      "metadata": {
        "id": "Vwa7Ldt1c7Q6",
        "colab": {
          "base_uri": "https://localhost:8080/"
        },
        "outputId": "e40a549c-3286-4804-aa29-a510c9de9162"
      },
      "source": [
        "#please provide your answer below this line.\n",
        "\n",
        "import numpy as np\n",
        "X = np.random.rand(3,3)\n",
        "print(\"Matrix:\\n\",X)\n",
        "print(\"\\nCeil of the matrix:\\n\",np.ceil(X))\n",
        "print(\"\\nFloor of the matrix:\\n\",np.floor(X))"
      ],
      "execution_count": null,
      "outputs": [
        {
          "output_type": "stream",
          "text": [
            "Matrix:\n",
            " [[0.46668007 0.96184622 0.23705383]\n",
            " [0.13362504 0.9111554  0.09783347]\n",
            " [0.64438314 0.71243423 0.94143438]]\n",
            "\n",
            "Ceil of the matrix:\n",
            " [[1. 1. 1.]\n",
            " [1. 1. 1.]\n",
            " [1. 1. 1.]]\n",
            "\n",
            "Floor of the matrix:\n",
            " [[0. 0. 0.]\n",
            " [0. 0. 0.]\n",
            " [0. 0. 0.]]\n"
          ],
          "name": "stdout"
        }
      ]
    },
    {
      "cell_type": "markdown",
      "metadata": {
        "id": "8WocogOddFSd"
      },
      "source": [
        "3. Create a random 1x4 array and print the random array and its shape.\n",
        "\n",
        "  (use the shape function for finding the shape & use the same random we created here for both the below operations.)\n",
        "\n",
        "  a) Squeeze the random array and print the squeezed array and its shape.\n",
        "  \n",
        "  b) Expand the random array by one axis and print the expanded array and its shape."
      ]
    },
    {
      "cell_type": "code",
      "metadata": {
        "id": "F8CeN6k0dGEl",
        "colab": {
          "base_uri": "https://localhost:8080/"
        },
        "outputId": "f890c8e2-7fbb-494b-e706-c35e3a8048e6"
      },
      "source": [
        "#please provide your answer below this line.\n",
        "\n",
        "import numpy as np\n",
        "a = np.random.rand(1,4)\n",
        "print(\"Array:\\n\",a)\n",
        "print(\"\\nThe shape of the array is:\\n\",a.shape)\n",
        "print(\"\\nThe squeeze array:\\n\",np.squeeze(a))\n",
        "print(\"\\nThe shape of squeeze array:\\n\",np.squeeze(a).shape)\n",
        "print(\"\\nExpanded array:\\n\",np.expand_dims(a, axis=2))\n",
        "print(\"\\nThe shape of expanded array:\\n\",np.expand_dims(a, axis=2).shape)"
      ],
      "execution_count": 35,
      "outputs": [
        {
          "output_type": "stream",
          "text": [
            "Array:\n",
            " [[0.31574601 0.94190074 0.44463193 0.94101718]]\n",
            "\n",
            "The shape of the array is:\n",
            " (1, 4)\n",
            "\n",
            "The squeeze array:\n",
            " [0.31574601 0.94190074 0.44463193 0.94101718]\n",
            "\n",
            "The shape of squeeze array:\n",
            " (4,)\n",
            "\n",
            "Expanded array:\n",
            " [[[0.31574601]\n",
            "  [0.94190074]\n",
            "  [0.44463193]\n",
            "  [0.94101718]]]\n",
            "\n",
            "The shape of expanded array:\n",
            " (1, 4, 1)\n"
          ],
          "name": "stdout"
        }
      ]
    }
  ]
}